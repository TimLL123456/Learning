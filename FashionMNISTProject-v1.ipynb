{
  "cells": [
    {
      "cell_type": "markdown",
      "metadata": {
        "id": "298b9aa9-e971-426c-9af2-ad57716238f7"
      },
      "source": [
        "<a href=\"https://cocl.us/DL0320EN_TOP_IMAGE\">\n",
        "    <img src=\"https://s3-api.us-geo.objectstorage.softlayer.net/cf-courses-data/CognitiveClass/DL0320EN/Assets/Images/Top.png\" width=\"750\" alt=\"IBM 10TB Storage\" />\n",
        "</a>\n"
      ]
    },
    {
      "cell_type": "markdown",
      "metadata": {
        "id": "1839ee9c-fb55-4449-9f53-0d21f3926768"
      },
      "source": [
        "<h1>Fashion-MNIST Project </h1>\n"
      ]
    },
    {
      "cell_type": "markdown",
      "metadata": {
        "id": "8c4dc7f6-8704-4445-8776-a057bf2ff3b9"
      },
      "source": [
        "<h2>Table of Contents</h2>\n"
      ]
    },
    {
      "cell_type": "markdown",
      "metadata": {
        "id": "5ff8af5c-4fe7-4d26-b299-bda54ecc2906"
      },
      "source": [
        "<p>In this project, you will classify  Fashion-MNIST dataset using convolutional neural networks.</p>\n",
        "<ul>\n",
        "  \n",
        "<ul>\n",
        "<li><a href=\"#Preparation\">Preparation</a></li>\n",
        "<li><a href=\"#Q1\">Questions 1: Create a Dataset Class</li>\n",
        "<li><a href=\"#Train\">Define Softmax, Criterion function, Optimizer and Train the Model</a></li>\n",
        "\n",
        "</ul>\n",
        "\n",
        "\n",
        "</ul>\n",
        "\n",
        "<p>Estimated Time Needed: <b>30 min</b></p>\n",
        "<hr>\n"
      ]
    },
    {
      "cell_type": "markdown",
      "metadata": {
        "id": "a7bea8a6-e81b-4ac7-8ff0-33b1f84b77ff"
      },
      "source": [
        "<h2 id=\"Preparation\" >Preparation</h2>\n"
      ]
    },
    {
      "cell_type": "markdown",
      "metadata": {
        "id": "73b96c90-1eb9-4c7c-97c1-e74550355de7"
      },
      "source": [
        "Download the datasets you needed for this lab.\n"
      ]
    },
    {
      "cell_type": "markdown",
      "metadata": {
        "id": "6c77f9d0-0d91-424b-bb62-8b09eda57771"
      },
      "source": [
        "The following are the PyTorch modules you are going to need\n"
      ]
    },
    {
      "cell_type": "code",
      "metadata": {
        "id": "7f804f7b-c01e-4db6-95ec-dbbcdfd758ae"
      },
      "outputs": [],
      "source": [
        "!pip install torch\n",
        "!pip install torchvision\n",
        "!pip install matplotlib"
      ],
      "execution_count": null
    },
    {
      "cell_type": "code",
      "metadata": {
        "id": "62450718-0f78-48b2-a8d7-3d533d37d1d5",
        "outputId": "8ae106dc-c9a9-42e6-d280-9fe5c607a17c",
        "colab": {
          "base_uri": "https://localhost:8080/"
        }
      },
      "outputs": [
        {
          "output_type": "execute_result",
          "data": {
            "text/plain": [
              "<torch._C.Generator at 0x7f6680793bb0>"
            ]
          },
          "metadata": {},
          "execution_count": 1
        }
      ],
      "source": [
        "# PyTorch Modules you need for this lab\n",
        "\n",
        "from torch.utils.data import Dataset, DataLoader\n",
        "\n",
        "from torchvision import transforms\n",
        "import torch\n",
        "import torch.nn as nn\n",
        "import torchvision.transforms as transforms\n",
        "import torchvision.datasets as dsets\n",
        "torch.manual_seed(0)"
      ],
      "execution_count": 1
    },
    {
      "cell_type": "markdown",
      "metadata": {
        "id": "917f508c-eb4d-4de2-91d4-7e8d85029604"
      },
      "source": [
        "Import Non-PyTorch Modules\n"
      ]
    },
    {
      "cell_type": "code",
      "metadata": {
        "id": "181e8c02-4018-42b5-b641-dd79967ea01c"
      },
      "outputs": [],
      "source": [
        "# Other non-PyTorch Modules\n",
        "\n",
        "from matplotlib.pyplot import imshow\n",
        "import matplotlib.pylab as plt\n",
        "\n",
        "from PIL import Image"
      ],
      "execution_count": 2
    },
    {
      "cell_type": "code",
      "metadata": {
        "id": "f34f2d5b-0b69-48d4-8847-f2345ba898f2"
      },
      "outputs": [],
      "source": [
        "def show_data(data_sample):\n",
        "    plt.imshow(data_sample[0].numpy().reshape(IMAGE_SIZE, IMAGE_SIZE), cmap='gray')\n",
        "    plt.title('y = '+ str(data_sample[1]))"
      ],
      "execution_count": 3
    },
    {
      "cell_type": "markdown",
      "metadata": {
        "id": "9317b009-61a9-49ea-bc70-60a0c44f0bc7"
      },
      "source": [
        "<hr>\n"
      ]
    },
    {
      "cell_type": "markdown",
      "metadata": {
        "id": "58a461f7-336c-4624-87b3-5a23265e8f4d"
      },
      "source": [
        "<hr>\n"
      ]
    },
    {
      "cell_type": "markdown",
      "metadata": {
        "id": "deb4dbc9-c7cc-4678-b264-386957dbd367"
      },
      "source": [
        "<h2 id=\"Questions 1\">Questions 1: Create a Dataset Class</h2>\n"
      ]
    },
    {
      "cell_type": "markdown",
      "metadata": {
        "id": "15749fa5-7a80-4236-a90f-05ff042d567d"
      },
      "source": [
        "In this section, you will load a Dataset object, but first you must transform the dataset. Use the <code>Compose</code> function to perform the following transforms:.\n",
        "<ol>\n",
        "    <li>use the transforms object to<code> Resize </code> to resize the image.</li>\n",
        "    <li>use the transforms object to<code> ToTensor </code> to convert the image to a tensor.</li>\n",
        "</ol>\n",
        "\n",
        "You will then take a screen shot of your validation data.\n"
      ]
    },
    {
      "cell_type": "markdown",
      "metadata": {
        "id": "2633c1c8-4316-4067-b913-71e98c8065ff"
      },
      "source": [
        "Use the Compose function to compose the transforms\n"
      ]
    },
    {
      "cell_type": "code",
      "metadata": {
        "id": "e270dbe3-ff05-41d5-af3a-80004a71c552"
      },
      "outputs": [],
      "source": [
        "#Hint:\n",
        "IMAGE_SIZE = 16\n",
        "composed = transforms.Compose([transforms.Resize((IMAGE_SIZE, IMAGE_SIZE)), transforms.ToTensor()])"
      ],
      "execution_count": 4
    },
    {
      "cell_type": "markdown",
      "metadata": {
        "id": "90f31b56-6d97-4758-93e1-f9637fa7630b"
      },
      "source": [
        "<hr>\n"
      ]
    },
    {
      "cell_type": "markdown",
      "metadata": {
        "id": "8022c0c8-f8f4-4638-8fbc-6faf90f62190"
      },
      "source": [
        "Create two dataset objects for the Fashion MNIST  dataset. One for training data called <code> dataset_train </code> and one for validation data <code>dataset_val</code>. You will be asked to take a screenshot of several samples.\n"
      ]
    },
    {
      "cell_type": "markdown",
      "metadata": {
        "id": "c7cac9fb-ed13-4317-bcba-508876ee8010"
      },
      "source": [
        "<b>Hint:</b>\n",
        "<code>dsets.FashionMNIST(root= '.fashion/data', train=???, transform=composed,  download=True)</code>\n"
      ]
    },
    {
      "cell_type": "code",
      "metadata": {
        "id": "23c7a380-95d9-43b3-a997-4c526442caaf"
      },
      "outputs": [],
      "source": [
        "dataset_train = dsets.FashionMNIST(root=\".fashion/data\", train=True, download=True, transform=composed)\n",
        "dataset_val = dsets.FashionMNIST(root=\".fashion/data\", train=False, download=False, transform=composed)"
      ],
      "execution_count": 19
    },
    {
      "cell_type": "code",
      "metadata": {
        "id": "da4a8573-7b4f-4ffa-8fa3-7fa9fa2f5d00",
        "outputId": "a0af2692-4633-412c-bd3a-caa4ae82b158",
        "colab": {
          "base_uri": "https://localhost:8080/",
          "height": 887
        }
      },
      "outputs": [
        {
          "output_type": "display_data",
          "data": {
            "text/plain": [
              "<Figure size 640x480 with 1 Axes>"
            ],
            "image/png": "[encoded data removed]"
          },
          "metadata": {}
        },
        {
          "output_type": "display_data",
          "data": {
            "text/plain": [
              "<Figure size 640x480 with 1 Axes>"
            ],
            "image/png": "[encoded data removed]"
          },
          "metadata": {}
        }
      ],
      "source": [
        "for n,data_sample in enumerate(dataset_val):\n",
        "\n",
        "    if n==2:\n",
        "        break\n",
        "\n",
        "    show_data(data_sample)\n",
        "    plt.show()"
      ],
      "execution_count": 20
    },
    {
      "cell_type": "markdown",
      "metadata": {
        "id": "b2d31885-a4b5-42a8-b1bc-baf50470bd71"
      },
      "source": [
        "<h2 id=\"Q2\">Questions 2</h2>\n",
        "Create a Convolutional Neural Network class using ONE of the following constructors.  Train the network using the provided code then provide a screenshot of your training cost and accuracy with your validation data.\n"
      ]
    },
    {
      "cell_type": "markdown",
      "metadata": {
        "id": "92669058-41dd-4b8e-a7e1-5ad6444ae2c0"
      },
      "source": [
        "Constructor  using Batch Norm\n"
      ]
    },
    {
      "cell_type": "code",
      "metadata": {
        "id": "eff524e9-6ca8-46a5-8ca7-aa02bcfd58a7"
      },
      "outputs": [],
      "source": [
        "class CNN_batch(nn.Module):\n",
        "\n",
        "    # Contructor\n",
        "    def __init__(self, out_1=16, out_2=32,number_of_classes=10):\n",
        "        super(CNN_batch, self).__init__()\n",
        "        self.cnn1 = nn.Conv2d(in_channels=1, out_channels=out_1, kernel_size=5, padding=2)\n",
        "        self.conv1_bn = nn.BatchNorm2d(out_1)\n",
        "\n",
        "        self.maxpool1=nn.MaxPool2d(kernel_size=2)\n",
        "\n",
        "        self.cnn2 = nn.Conv2d(in_channels=out_1, out_channels=out_2, kernel_size=5, stride=1, padding=2)\n",
        "        self.conv2_bn = nn.BatchNorm2d(out_2)\n",
        "\n",
        "        self.maxpool2=nn.MaxPool2d(kernel_size=2)\n",
        "        self.fc1 = nn.Linear(out_2 * 4 * 4, number_of_classes)\n",
        "        self.bn_fc1 = nn.BatchNorm1d(10)\n",
        "\n",
        "    # Prediction\n",
        "    def forward(self, x):\n",
        "        x = self.cnn1(x)\n",
        "        x=self.conv1_bn(x)\n",
        "        x = torch.relu(x)\n",
        "        x = self.maxpool1(x)\n",
        "        x = self.cnn2(x)\n",
        "        x=self.conv2_bn(x)\n",
        "        x = torch.relu(x)\n",
        "        x = self.maxpool2(x)\n",
        "        x = x.view(x.size(0), -1)\n",
        "        x = self.fc1(x)\n",
        "        x=self.bn_fc1(x)\n",
        "        return x"
      ],
      "execution_count": 21
    },
    {
      "cell_type": "markdown",
      "metadata": {
        "id": "0fca2f41-f0e0-4a9a-8dc8-ee6c2fc7ad6e"
      },
      "source": [
        "Constructor  for regular Convolutional Neural Network\n"
      ]
    },
    {
      "cell_type": "code",
      "metadata": {
        "id": "bc3726e6-0ace-429b-8873-c5529fecc978"
      },
      "outputs": [],
      "source": [
        "class CNN(nn.Module):\n",
        "\n",
        "    # Contructor\n",
        "    def __init__(self, out_1=16, out_2=32,number_of_classes=10):\n",
        "        super(CNN, self).__init__()\n",
        "        self.cnn1 = nn.Conv2d(in_channels=1, out_channels=out_1, kernel_size=5, padding=2)\n",
        "        self.maxpool1=nn.MaxPool2d(kernel_size=2)\n",
        "\n",
        "        self.cnn2 = nn.Conv2d(in_channels=out_1, out_channels=out_2, kernel_size=5, stride=1, padding=2)\n",
        "        self.maxpool2=nn.MaxPool2d(kernel_size=2)\n",
        "        self.fc1 = nn.Linear(out_2 * 4 * 4, number_of_classes)\n",
        "\n",
        "    # Prediction\n",
        "    def forward(self, x):\n",
        "        x = self.cnn1(x)\n",
        "        x = torch.relu(x)\n",
        "        x = self.maxpool1(x)\n",
        "        x = self.cnn2(x)\n",
        "        x = torch.relu(x)\n",
        "        x = self.maxpool2(x)\n",
        "        x = x.view(x.size(0), -1)\n",
        "        x = self.fc1(x)\n",
        "        return x"
      ],
      "execution_count": 22
    },
    {
      "cell_type": "markdown",
      "metadata": {
        "id": "7a26b5a8-7b58-4cce-bd8c-43bcec7dcf67"
      },
      "source": [
        "train loader  and validation loader\n"
      ]
    },
    {
      "cell_type": "code",
      "metadata": {
        "id": "9d54f18a-c505-4ca0-a204-f732dc9d475e"
      },
      "outputs": [],
      "source": [
        "train_loader = torch.utils.data.DataLoader(dataset=dataset_train, batch_size=100 )\n",
        "test_loader = torch.utils.data.DataLoader(dataset=dataset_val, batch_size=100 )"
      ],
      "execution_count": 23
    },
    {
      "cell_type": "markdown",
      "metadata": {
        "id": "96879f8e-88d4-4a87-b6ad-541ba2d8b134"
      },
      "source": [
        "Convolutional Neural Network object\n"
      ]
    },
    {
      "cell_type": "code",
      "metadata": {
        "id": "570f6675-30a6-41b2-b487-34de76f6a6fb"
      },
      "outputs": [],
      "source": [
        "model = CNN(out_1=16, out_2=32,number_of_classes=10)\n",
        "#model =CNN_batch(out_1=16, out_2=32,number_of_classes=10)"
      ],
      "execution_count": 24
    },
    {
      "cell_type": "markdown",
      "metadata": {
        "id": "042e190e-2b1f-42ac-9084-3f47f59f7578"
      },
      "source": [
        "Create the objects for the criterion and the optimizer named <code>criterion</code> and <code>optimizer</code>. Make the optimizer use SGD with a learning rate of 0.1 and the optimizer use Cross Entropy Loss\n"
      ]
    },
    {
      "cell_type": "code",
      "metadata": {
        "id": "4c136211-0ff2-4740-882b-758057fbe4e0"
      },
      "outputs": [],
      "source": [
        "criterion = nn.CrossEntropyLoss()\n",
        "learning_rate = 0.1\n",
        "optimizer = torch.optim.SGD(model.parameters(), lr=learning_rate)"
      ],
      "execution_count": 25
    },
    {
      "cell_type": "markdown",
      "metadata": {
        "id": "28084112-aae1-461a-b588-f05b95118251"
      },
      "source": [
        "Code used to train the model\n"
      ]
    },
    {
      "cell_type": "code",
      "metadata": {
        "id": "52f5c445-6696-4c3f-a157-2d162d265cf3"
      },
      "outputs": [],
      "source": [
        "import time\n",
        "start_time = time.time()\n",
        "\n",
        "cost_list=[]\n",
        "accuracy_list=[]\n",
        "N_test=len(dataset_val)\n",
        "n_epochs=5\n",
        "for epoch in range(n_epochs):\n",
        "    cost=0\n",
        "    model.train()\n",
        "    for x, y in train_loader:\n",
        "        optimizer.zero_grad()\n",
        "        z = model(x)\n",
        "        loss = criterion(z, y)\n",
        "        loss.backward()\n",
        "        optimizer.step()\n",
        "        cost+=loss.item()\n",
        "    correct=0\n",
        "    #perform a prediction on the validation  data\n",
        "    model.eval()\n",
        "    for x_test, y_test in test_loader:\n",
        "        z = model(x_test)\n",
        "        _, yhat = torch.max(z.data, 1)\n",
        "        correct += (yhat == y_test).sum().item()\n",
        "    accuracy = correct / N_test\n",
        "    accuracy_list.append(accuracy)\n",
        "    cost_list.append(cost)\n",
        ""
      ],
      "execution_count": 26
    },
    {
      "cell_type": "markdown",
      "metadata": {
        "id": "4021bf56-1680-4e8d-96a9-26488c5f04de"
      },
      "source": [
        "You will use the following to plot the Cost and accuracy for each epoch for the training and testing data, respectively.\n"
      ]
    },
    {
      "cell_type": "code",
      "metadata": {
        "id": "c7ac64c2-fb3a-4e01-9bea-982c54029368",
        "outputId": "03af248d-1480-4bbd-918f-39a1e3070ace",
        "colab": {
          "base_uri": "https://localhost:8080/",
          "height": 486
        }
      },
      "outputs": [
        {
          "output_type": "display_data",
          "data": {
            "text/plain": [
              "<Figure size 640x480 with 2 Axes>"
            ],
            "image/png": "[encoded data removed]"
          },
          "metadata": {}
        }
      ],
      "source": [
        "fig, ax1 = plt.subplots()\n",
        "color = 'tab:red'\n",
        "ax1.plot(cost_list, color=color)\n",
        "ax1.set_xlabel('epoch', color=color)\n",
        "ax1.set_ylabel('Cost', color=color)\n",
        "ax1.tick_params(axis='y', color=color)\n",
        "\n",
        "ax2 = ax1.twinx()\n",
        "color = 'tab:blue'\n",
        "ax2.set_ylabel('accuracy', color=color)\n",
        "ax2.set_xlabel('epoch', color=color)\n",
        "ax2.plot( accuracy_list, color=color)\n",
        "ax2.tick_params(axis='y', color=color)\n",
        "fig.tight_layout()"
      ],
      "execution_count": 27
    },
    {
      "cell_type": "markdown",
      "source": [
        "![image.png](data:image/png;base64,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)"
      ],
      "metadata": {
        "id": "i9K-mkyYZydC"
      }
    },
    {
      "cell_type": "markdown",
      "metadata": {
        "id": "66c64267-bf7a-44bc-8990-56b97a30b667"
      },
      "source": [
        "dataset: https://github.com/zalandoresearch/fashion-mnist\n"
      ]
    },
    {
      "cell_type": "markdown",
      "metadata": {
        "id": "57c8bb66-8c10-45d7-b3b1-2c4c52f63aa1"
      },
      "source": [
        "<h2>About the Authors:</h2>\n",
        "\n",
        "<a href=\"https://www.linkedin.com/in/joseph-s-50398b136/\">Joseph Santarcangelo</a> has a PhD in Electrical Engineering, his research focused on using machine learning, signal processing, and computer vision to determine how videos impact human cognition. Joseph has been working for IBM since he completed his PhD.\n"
      ]
    },
    {
      "cell_type": "markdown",
      "metadata": {
        "id": "4a3a1a5e-2be6-44ef-bd45-ec79be88fb49"
      },
      "source": [
        "Other contributors: <a href=\"https://www.linkedin.com/in/michelleccarey/\">Michelle Carey</a>, <a href=\"www.linkedin.com/in/jiahui-mavis-zhou-a4537814a\">Mavis Zhou</a>\n"
      ]
    },
    {
      "cell_type": "markdown",
      "metadata": {
        "id": "22fd2639-1f6b-4e73-b625-f6b587df75b3"
      },
      "source": [
        "<hr>\n"
      ]
    },
    {
      "cell_type": "markdown",
      "metadata": {
        "id": "8eceddf1-693f-4412-828b-c8734c503608"
      },
      "source": [
        "Copyright &copy; 2018 <a href=\"cognitiveclass.ai?utm_source=bducopyrightlink&utm_medium=dswb&utm_campaign=bdu\">cognitiveclass.ai</a>. This notebook and its source code are released under the terms of the <a href=\"https://bigdatauniversity.com/mit-license/\">MIT License</a>.\n"
      ]
    }
  ],
  "metadata": {
    "kernelspec": {
      "display_name": "Python 3 (ipykernel)",
      "language": "python",
      "name": "python3"
    },
    "language_info": {
      "codemirror_mode": {
        "name": "ipython",
        "version": 3
      },
      "file_extension": ".py",
      "mimetype": "text/x-python",
      "name": "python",
      "nbconvert_exporter": "python",
      "pygments_lexer": "ipython3",
      "version": "3.11.9"
    },
    "prev_pub_hash": "4877812ac0ae5d7b457354613883e9f6c125ff347a46fdad34549b8d3dbf3449",
    "colab": {
      "provenance": []
    }
  },
  "nbformat": 4,
  "nbformat_minor": 0
}