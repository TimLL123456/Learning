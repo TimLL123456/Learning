{
  "cells": [
    {
      "cell_type": "markdown",
      "metadata": {
        "id": "298b9aa9-e971-426c-9af2-ad57716238f7"
      },
      "source": [
        "<a href=\"https://cocl.us/DL0320EN_TOP_IMAGE\">\n",
        "    <img src=\"https://s3-api.us-geo.objectstorage.softlayer.net/cf-courses-data/CognitiveClass/DL0320EN/Assets/Images/Top.png\" width=\"750\" alt=\"IBM 10TB Storage\" />\n",
        "</a>\n"
      ]
    },
    {
      "cell_type": "markdown",
      "metadata": {
        "id": "1839ee9c-fb55-4449-9f53-0d21f3926768"
      },
      "source": [
        "<h1>Fashion-MNIST Project </h1>\n"
      ]
    },
    {
      "cell_type": "markdown",
      "metadata": {
        "id": "8c4dc7f6-8704-4445-8776-a057bf2ff3b9"
      },
      "source": [
        "<h2>Table of Contents</h2>\n"
      ]
    },
    {
      "cell_type": "markdown",
      "metadata": {
        "id": "5ff8af5c-4fe7-4d26-b299-bda54ecc2906"
      },
      "source": [
        "<p>In this project, you will classify  Fashion-MNIST dataset using convolutional neural networks.</p>\n",
        "<ul>\n",
        "  \n",
        "<ul>\n",
        "<li><a href=\"#Preparation\">Preparation</a></li>\n",
        "<li><a href=\"#Q1\">Questions 1: Create a Dataset Class</li>\n",
        "<li><a href=\"#Train\">Define Softmax, Criterion function, Optimizer and Train the Model</a></li>\n",
        "\n",
        "</ul>\n",
        "\n",
        "\n",
        "</ul>\n",
        "\n",
        "<p>Estimated Time Needed: <b>30 min</b></p>\n",
        "<hr>\n"
      ]
    },
    {
      "cell_type": "markdown",
      "metadata": {
        "id": "a7bea8a6-e81b-4ac7-8ff0-33b1f84b77ff"
      },
      "source": [
        "<h2 id=\"Preparation\" >Preparation</h2>\n"
      ]
    },
    {
      "cell_type": "markdown",
      "metadata": {
        "id": "73b96c90-1eb9-4c7c-97c1-e74550355de7"
      },
      "source": [
        "Download the datasets you needed for this lab.\n"
      ]
    },
    {
      "cell_type": "markdown",
      "metadata": {
        "id": "6c77f9d0-0d91-424b-bb62-8b09eda57771"
      },
      "source": [
        "The following are the PyTorch modules you are going to need\n"
      ]
    },
    {
      "cell_type": "code",
      "metadata": {
        "id": "7f804f7b-c01e-4db6-95ec-dbbcdfd758ae"
      },
      "outputs": [],
      "source": [
        "!pip install torch\n",
        "!pip install torchvision\n",
        "!pip install matplotlib"
      ],
      "execution_count": null
    },
    {
      "cell_type": "code",
      "metadata": {
        "colab": {
          "base_uri": "https://localhost:8080/"
        },
        "id": "62450718-0f78-48b2-a8d7-3d533d37d1d5",
        "outputId": "8ae106dc-c9a9-42e6-d280-9fe5c607a17c"
      },
      "outputs": [
        {
          "output_type": "execute_result",
          "data": {
            "text/plain": [
              "<torch._C.Generator at 0x7f6680793bb0>"
            ]
          },
          "metadata": {},
          "execution_count": 1
        }
      ],
      "source": [
        "# PyTorch Modules you need for this lab\n",
        "\n",
        "from torch.utils.data import Dataset, DataLoader\n",
        "\n",
        "from torchvision import transforms\n",
        "import torch\n",
        "import torch.nn as nn\n",
        "import torchvision.transforms as transforms\n",
        "import torchvision.datasets as dsets\n",
        "torch.manual_seed(0)"
      ],
      "execution_count": 1
    },
    {
      "cell_type": "markdown",
      "metadata": {
        "id": "917f508c-eb4d-4de2-91d4-7e8d85029604"
      },
      "source": [
        "Import Non-PyTorch Modules\n"
      ]
    },
    {
      "cell_type": "code",
      "metadata": {
        "id": "181e8c02-4018-42b5-b641-dd79967ea01c"
      },
      "outputs": [],
      "source": [
        "# Other non-PyTorch Modules\n",
        "\n",
        "from matplotlib.pyplot import imshow\n",
        "import matplotlib.pylab as plt\n",
        "\n",
        "from PIL import Image"
      ],
      "execution_count": 2
    },
    {
      "cell_type": "code",
      "metadata": {
        "id": "f34f2d5b-0b69-48d4-8847-f2345ba898f2"
      },
      "outputs": [],
      "source": [
        "def show_data(data_sample):\n",
        "    plt.imshow(data_sample[0].numpy().reshape(IMAGE_SIZE, IMAGE_SIZE), cmap='gray')\n",
        "    plt.title('y = '+ str(data_sample[1]))"
      ],
      "execution_count": 3
    },
    {
      "cell_type": "markdown",
      "metadata": {
        "id": "9317b009-61a9-49ea-bc70-60a0c44f0bc7"
      },
      "source": [
        "<hr>\n"
      ]
    },
    {
      "cell_type": "markdown",
      "metadata": {
        "id": "58a461f7-336c-4624-87b3-5a23265e8f4d"
      },
      "source": [
        "<hr>\n"
      ]
    },
    {
      "cell_type": "markdown",
      "metadata": {
        "id": "deb4dbc9-c7cc-4678-b264-386957dbd367"
      },
      "source": [
        "<h2 id=\"Questions 1\">Questions 1: Create a Dataset Class</h2>\n"
      ]
    },
    {
      "cell_type": "markdown",
      "metadata": {
        "id": "15749fa5-7a80-4236-a90f-05ff042d567d"
      },
      "source": [
        "In this section, you will load a Dataset object, but first you must transform the dataset. Use the <code>Compose</code> function to perform the following transforms:.\n",
        "<ol>\n",
        "    <li>use the transforms object to<code> Resize </code> to resize the image.</li>\n",
        "    <li>use the transforms object to<code> ToTensor </code> to convert the image to a tensor.</li>\n",
        "</ol>\n",
        "\n",
        "You will then take a screen shot of your validation data.\n"
      ]
    },
    {
      "cell_type": "markdown",
      "metadata": {
        "id": "2633c1c8-4316-4067-b913-71e98c8065ff"
      },
      "source": [
        "Use the Compose function to compose the transforms\n"
      ]
    },
    {
      "cell_type": "code",
      "metadata": {
        "id": "e270dbe3-ff05-41d5-af3a-80004a71c552"
      },
      "outputs": [],
      "source": [
        "#Hint:\n",
        "IMAGE_SIZE = 16\n",
        "composed = transforms.Compose([transforms.Resize((IMAGE_SIZE, IMAGE_SIZE)), transforms.ToTensor()])"
      ],
      "execution_count": 4
    },
    {
      "cell_type": "markdown",
      "metadata": {
        "id": "90f31b56-6d97-4758-93e1-f9637fa7630b"
      },
      "source": [
        "<hr>\n"
      ]
    },
    {
      "cell_type": "markdown",
      "metadata": {
        "id": "8022c0c8-f8f4-4638-8fbc-6faf90f62190"
      },
      "source": [
        "Create two dataset objects for the Fashion MNIST  dataset. One for training data called <code> dataset_train </code> and one for validation data <code>dataset_val</code>. You will be asked to take a screenshot of several samples.\n"
      ]
    },
    {
      "cell_type": "markdown",
      "metadata": {
        "id": "c7cac9fb-ed13-4317-bcba-508876ee8010"
      },
      "source": [
        "<b>Hint:</b>\n",
        "<code>dsets.FashionMNIST(root= '.fashion/data', train=???, transform=composed,  download=True)</code>\n"
      ]
    },
    {
      "cell_type": "code",
      "metadata": {
        "id": "23c7a380-95d9-43b3-a997-4c526442caaf"
      },
      "outputs": [],
      "source": [
        "dataset_train = dsets.FashionMNIST(root=\".fashion/data\", train=True, download=True, transform=composed)\n",
        "dataset_val = dsets.FashionMNIST(root=\".fashion/data\", train=False, download=False, transform=composed)"
      ],
      "execution_count": 19
    },
    {
      "cell_type": "code",
      "metadata": {
        "colab": {
          "base_uri": "https://localhost:8080/",
          "height": 1000
        },
        "id": "da4a8573-7b4f-4ffa-8fa3-7fa9fa2f5d00",
        "outputId": "b615fc48-7ab7-493d-edc9-0a09ba162f64"
      },
      "outputs": [
        {
          "output_type": "display_data",
          "data": {
            "text/plain": [
              "<Figure size 640x480 with 1 Axes>"
            ],
            "image/png": "[encoded data removed]"
          },
          "metadata": {}
        },
        {
          "output_type": "display_data",
          "data": {
            "text/plain": [
              "<Figure size 640x480 with 1 Axes>"
            ],
            "image/png": "[encoded data removed]"
          },
          "metadata": {}
        },
        {
          "output_type": "display_data",
          "data": {
            "text/plain": [
              "<Figure size 640x480 with 1 Axes>"
            ],
            "image/png": "[encoded data removed]"
          },
          "metadata": {}
        }
      ],
      "source": [
        "for n,data_sample in enumerate(dataset_val):\n",
        "\n",
        "    show_data(data_sample)\n",
        "    plt.show()\n",
        "\n",
        "    if n==2:\n",
        "        break"
      ],
      "execution_count": 28
    },
    {
      "cell_type": "markdown",
      "metadata": {
        "id": "b2d31885-a4b5-42a8-b1bc-baf50470bd71"
      },
      "source": [
        "<h2 id=\"Q2\">Questions 2</h2>\n",
        "Create a Convolutional Neural Network class using ONE of the following constructors.  Train the network using the provided code then provide a screenshot of your training cost and accuracy with your validation data.\n"
      ]
    },
    {
      "cell_type": "markdown",
      "metadata": {
        "id": "92669058-41dd-4b8e-a7e1-5ad6444ae2c0"
      },
      "source": [
        "Constructor  using Batch Norm\n"
      ]
    },
    {
      "cell_type": "code",
      "metadata": {
        "id": "eff524e9-6ca8-46a5-8ca7-aa02bcfd58a7"
      },
      "outputs": [],
      "source": [
        "class CNN_batch(nn.Module):\n",
        "\n",
        "    # Contructor\n",
        "    def __init__(self, out_1=16, out_2=32,number_of_classes=10):\n",
        "        super(CNN_batch, self).__init__()\n",
        "        self.cnn1 = nn.Conv2d(in_channels=1, out_channels=out_1, kernel_size=5, padding=2)\n",
        "        self.conv1_bn = nn.BatchNorm2d(out_1)\n",
        "\n",
        "        self.maxpool1=nn.MaxPool2d(kernel_size=2)\n",
        "\n",
        "        self.cnn2 = nn.Conv2d(in_channels=out_1, out_channels=out_2, kernel_size=5, stride=1, padding=2)\n",
        "        self.conv2_bn = nn.BatchNorm2d(out_2)\n",
        "\n",
        "        self.maxpool2=nn.MaxPool2d(kernel_size=2)\n",
        "        self.fc1 = nn.Linear(out_2 * 4 * 4, number_of_classes)\n",
        "        self.bn_fc1 = nn.BatchNorm1d(10)\n",
        "\n",
        "    # Prediction\n",
        "    def forward(self, x):\n",
        "        x = self.cnn1(x)\n",
        "        x=self.conv1_bn(x)\n",
        "        x = torch.relu(x)\n",
        "        x = self.maxpool1(x)\n",
        "        x = self.cnn2(x)\n",
        "        x=self.conv2_bn(x)\n",
        "        x = torch.relu(x)\n",
        "        x = self.maxpool2(x)\n",
        "        x = x.view(x.size(0), -1)\n",
        "        x = self.fc1(x)\n",
        "        x=self.bn_fc1(x)\n",
        "        return x"
      ],
      "execution_count": 21
    },
    {
      "cell_type": "markdown",
      "metadata": {
        "id": "0fca2f41-f0e0-4a9a-8dc8-ee6c2fc7ad6e"
      },
      "source": [
        "Constructor  for regular Convolutional Neural Network\n"
      ]
    },
    {
      "cell_type": "code",
      "metadata": {
        "id": "bc3726e6-0ace-429b-8873-c5529fecc978"
      },
      "outputs": [],
      "source": [
        "class CNN(nn.Module):\n",
        "\n",
        "    # Contructor\n",
        "    def __init__(self, out_1=16, out_2=32,number_of_classes=10):\n",
        "        super(CNN, self).__init__()\n",
        "        self.cnn1 = nn.Conv2d(in_channels=1, out_channels=out_1, kernel_size=5, padding=2)\n",
        "        self.maxpool1=nn.MaxPool2d(kernel_size=2)\n",
        "\n",
        "        self.cnn2 = nn.Conv2d(in_channels=out_1, out_channels=out_2, kernel_size=5, stride=1, padding=2)\n",
        "        self.maxpool2=nn.MaxPool2d(kernel_size=2)\n",
        "        self.fc1 = nn.Linear(out_2 * 4 * 4, number_of_classes)\n",
        "\n",
        "    # Prediction\n",
        "    def forward(self, x):\n",
        "        x = self.cnn1(x)\n",
        "        x = torch.relu(x)\n",
        "        x = self.maxpool1(x)\n",
        "        x = self.cnn2(x)\n",
        "        x = torch.relu(x)\n",
        "        x = self.maxpool2(x)\n",
        "        x = x.view(x.size(0), -1)\n",
        "        x = self.fc1(x)\n",
        "        return x"
      ],
      "execution_count": 22
    },
    {
      "cell_type": "markdown",
      "metadata": {
        "id": "7a26b5a8-7b58-4cce-bd8c-43bcec7dcf67"
      },
      "source": [
        "train loader  and validation loader\n"
      ]
    },
    {
      "cell_type": "code",
      "metadata": {
        "id": "9d54f18a-c505-4ca0-a204-f732dc9d475e"
      },
      "outputs": [],
      "source": [
        "train_loader = torch.utils.data.DataLoader(dataset=dataset_train, batch_size=100 )\n",
        "test_loader = torch.utils.data.DataLoader(dataset=dataset_val, batch_size=100 )"
      ],
      "execution_count": 23
    },
    {
      "cell_type": "markdown",
      "metadata": {
        "id": "96879f8e-88d4-4a87-b6ad-541ba2d8b134"
      },
      "source": [
        "Convolutional Neural Network object\n"
      ]
    },
    {
      "cell_type": "code",
      "metadata": {
        "id": "570f6675-30a6-41b2-b487-34de76f6a6fb"
      },
      "outputs": [],
      "source": [
        "model = CNN(out_1=16, out_2=32,number_of_classes=10)\n",
        "#model =CNN_batch(out_1=16, out_2=32,number_of_classes=10)"
      ],
      "execution_count": 24
    },
    {
      "cell_type": "markdown",
      "metadata": {
        "id": "042e190e-2b1f-42ac-9084-3f47f59f7578"
      },
      "source": [
        "Create the objects for the criterion and the optimizer named <code>criterion</code> and <code>optimizer</code>. Make the optimizer use SGD with a learning rate of 0.1 and the optimizer use Cross Entropy Loss\n"
      ]
    },
    {
      "cell_type": "code",
      "metadata": {
        "id": "4c136211-0ff2-4740-882b-758057fbe4e0"
      },
      "outputs": [],
      "source": [
        "criterion = nn.CrossEntropyLoss()\n",
        "learning_rate = 0.1\n",
        "optimizer = torch.optim.SGD(model.parameters(), lr=learning_rate)"
      ],
      "execution_count": 25
    },
    {
      "cell_type": "markdown",
      "metadata": {
        "id": "28084112-aae1-461a-b588-f05b95118251"
      },
      "source": [
        "Code used to train the model\n"
      ]
    },
    {
      "cell_type": "code",
      "metadata": {
        "id": "52f5c445-6696-4c3f-a157-2d162d265cf3"
      },
      "outputs": [],
      "source": [
        "import time\n",
        "start_time = time.time()\n",
        "\n",
        "cost_list=[]\n",
        "accuracy_list=[]\n",
        "N_test=len(dataset_val)\n",
        "n_epochs=5\n",
        "for epoch in range(n_epochs):\n",
        "    cost=0\n",
        "    model.train()\n",
        "    for x, y in train_loader:\n",
        "        optimizer.zero_grad()\n",
        "        z = model(x)\n",
        "        loss = criterion(z, y)\n",
        "        loss.backward()\n",
        "        optimizer.step()\n",
        "        cost+=loss.item()\n",
        "    correct=0\n",
        "    #perform a prediction on the validation  data\n",
        "    model.eval()\n",
        "    for x_test, y_test in test_loader:\n",
        "        z = model(x_test)\n",
        "        _, yhat = torch.max(z.data, 1)\n",
        "        correct += (yhat == y_test).sum().item()\n",
        "    accuracy = correct / N_test\n",
        "    accuracy_list.append(accuracy)\n",
        "    cost_list.append(cost)\n",
        ""
      ],
      "execution_count": 26
    },
    {
      "cell_type": "markdown",
      "metadata": {
        "id": "4021bf56-1680-4e8d-96a9-26488c5f04de"
      },
      "source": [
        "You will use the following to plot the Cost and accuracy for each epoch for the training and testing data, respectively.\n"
      ]
    },
    {
      "cell_type": "code",
      "metadata": {
        "colab": {
          "base_uri": "https://localhost:8080/",
          "height": 486
        },
        "id": "c7ac64c2-fb3a-4e01-9bea-982c54029368",
        "outputId": "03af248d-1480-4bbd-918f-39a1e3070ace"
      },
      "outputs": [
        {
          "output_type": "display_data",
          "data": {
            "text/plain": [
              "<Figure size 640x480 with 2 Axes>"
            ],
            "image/png": "[encoded data removed]"
          },
          "metadata": {}
        }
      ],
      "source": [
        "fig, ax1 = plt.subplots()\n",
        "color = 'tab:red'\n",
        "ax1.plot(cost_list, color=color)\n",
        "ax1.set_xlabel('epoch', color=color)\n",
        "ax1.set_ylabel('Cost', color=color)\n",
        "ax1.tick_params(axis='y', color=color)\n",
        "\n",
        "ax2 = ax1.twinx()\n",
        "color = 'tab:blue'\n",
        "ax2.set_ylabel('accuracy', color=color)\n",
        "ax2.set_xlabel('epoch', color=color)\n",
        "ax2.plot( accuracy_list, color=color)\n",
        "ax2.tick_params(axis='y', color=color)\n",
        "fig.tight_layout()"
      ],
      "execution_count": 27
    },
    {
      "cell_type": "markdown",
      "metadata": {
        "id": "66c64267-bf7a-44bc-8990-56b97a30b667"
      },
      "source": [
        "dataset: https://github.com/zalandoresearch/fashion-mnist\n"
      ]
    },
    {
      "cell_type": "markdown",
      "metadata": {
        "id": "57c8bb66-8c10-45d7-b3b1-2c4c52f63aa1"
      },
      "source": [
        "<h2>About the Authors:</h2>\n",
        "\n",
        "<a href=\"https://www.linkedin.com/in/joseph-s-50398b136/\">Joseph Santarcangelo</a> has a PhD in Electrical Engineering, his research focused on using machine learning, signal processing, and computer vision to determine how videos impact human cognition. Joseph has been working for IBM since he completed his PhD.\n"
      ]
    },
    {
      "cell_type": "markdown",
      "metadata": {
        "id": "4a3a1a5e-2be6-44ef-bd45-ec79be88fb49"
      },
      "source": [
        "Other contributors: <a href=\"https://www.linkedin.com/in/michelleccarey/\">Michelle Carey</a>, <a href=\"www.linkedin.com/in/jiahui-mavis-zhou-a4537814a\">Mavis Zhou</a>\n"
      ]
    },
    {
      "cell_type": "markdown",
      "metadata": {
        "id": "22fd2639-1f6b-4e73-b625-f6b587df75b3"
      },
      "source": [
        "<hr>\n"
      ]
    },
    {
      "cell_type": "markdown",
      "metadata": {
        "id": "8eceddf1-693f-4412-828b-c8734c503608"
      },
      "source": [
        "Copyright &copy; 2018 <a href=\"cognitiveclass.ai?utm_source=bducopyrightlink&utm_medium=dswb&utm_campaign=bdu\">cognitiveclass.ai</a>. This notebook and its source code are released under the terms of the <a href=\"https://bigdatauniversity.com/mit-license/\">MIT License</a>.\n"
      ]
    }
  ],
  "metadata": {
    "kernelspec": {
      "display_name": "Python 3 (ipykernel)",
      "language": "python",
      "name": "python3"
    },
    "language_info": {
      "codemirror_mode": {
        "name": "ipython",
        "version": 3
      },
      "file_extension": ".py",
      "mimetype": "text/x-python",
      "name": "python",
      "nbconvert_exporter": "python",
      "pygments_lexer": "ipython3",
      "version": "3.11.9"
    },
    "prev_pub_hash": "4877812ac0ae5d7b457354613883e9f6c125ff347a46fdad34549b8d3dbf3449",
    "colab": {
      "provenance": []
    }
  },
  "nbformat": 4,
  "nbformat_minor": 0
}