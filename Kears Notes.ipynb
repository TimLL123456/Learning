{
  "cells": [
    {
      "cell_type": "markdown",
      "source": [
        "# Regression with Keras"
      ],
      "metadata": {
        "id": "3lcS0jj0Mgdg"
      }
    },
    {
      "cell_type": "code",
      "source": [
        "import pandas as pd\n",
        "import numpy as np"
      ],
      "metadata": {
        "id": "zC73NxiWzS4E"
      },
      "execution_count": 9,
      "outputs": []
    },
    {
      "cell_type": "code",
      "source": [
        "concrete_data = pd.read_csv('https://s3-api.us-geo.objectstorage.softlayer.net/cf-courses-data/CognitiveClass/DL0101EN/labs/data/concrete_data.csv')\n",
        "concrete_data.head()"
      ],
      "metadata": {
        "colab": {
          "base_uri": "https://localhost:8080/",
          "height": 206
        },
        "id": "Sv_S1kn5LhqX",
        "outputId": "0af480e9-0be3-418a-eab5-97d9fbfcacca"
      },
      "execution_count": 10,
      "outputs": [
        {
          "output_type": "execute_result",
          "data": {
            "text/plain": [
              "   Cement  Blast Furnace Slag  Fly Ash  Water  Superplasticizer  \\\n",
              "0   540.0                 0.0      0.0  162.0               2.5   \n",
              "1   540.0                 0.0      0.0  162.0               2.5   \n",
              "2   332.5               142.5      0.0  228.0               0.0   \n",
              "3   332.5               142.5      0.0  228.0               0.0   \n",
              "4   198.6               132.4      0.0  192.0               0.0   \n",
              "\n",
              "   Coarse Aggregate  Fine Aggregate  Age  Strength  \n",
              "0            1040.0           676.0   28     79.99  \n",
              "1            1055.0           676.0   28     61.89  \n",
              "2             932.0           594.0  270     40.27  \n",
              "3             932.0           594.0  365     41.05  \n",
              "4             978.4           825.5  360     44.30  "
            ],
            "text/html": [
              "\n",
              "  <div id=\"df-13f7a933-f125-4ea9-a4e7-0bfe9c1d9595\" class=\"colab-df-container\">\n",
              "    <div>\n",
              "<style scoped>\n",
              "    .dataframe tbody tr th:only-of-type {\n",
              "        vertical-align: middle;\n",
              "    }\n",
              "\n",
              "    .dataframe tbody tr th {\n",
              "        vertical-align: top;\n",
              "    }\n",
              "\n",
              "    .dataframe thead th {\n",
              "        text-align: right;\n",
              "    }\n",
              "</style>\n",
              "<table border=\"1\" class=\"dataframe\">\n",
              "  <thead>\n",
              "    <tr style=\"text-align: right;\">\n",
              "      <th></th>\n",
              "      <th>Cement</th>\n",
              "      <th>Blast Furnace Slag</th>\n",
              "      <th>Fly Ash</th>\n",
              "      <th>Water</th>\n",
              "      <th>Superplasticizer</th>\n",
              "      <th>Coarse Aggregate</th>\n",
              "      <th>Fine Aggregate</th>\n",
              "      <th>Age</th>\n",
              "      <th>Strength</th>\n",
              "    </tr>\n",
              "  </thead>\n",
              "  <tbody>\n",
              "    <tr>\n",
              "      <th>0</th>\n",
              "      <td>540.0</td>\n",
              "      <td>0.0</td>\n",
              "      <td>0.0</td>\n",
              "      <td>162.0</td>\n",
              "      <td>2.5</td>\n",
              "      <td>1040.0</td>\n",
              "      <td>676.0</td>\n",
              "      <td>28</td>\n",
              "      <td>79.99</td>\n",
              "    </tr>\n",
              "    <tr>\n",
              "      <th>1</th>\n",
              "      <td>540.0</td>\n",
              "      <td>0.0</td>\n",
              "      <td>0.0</td>\n",
              "      <td>162.0</td>\n",
              "      <td>2.5</td>\n",
              "      <td>1055.0</td>\n",
              "      <td>676.0</td>\n",
              "      <td>28</td>\n",
              "      <td>61.89</td>\n",
              "    </tr>\n",
              "    <tr>\n",
              "      <th>2</th>\n",
              "      <td>332.5</td>\n",
              "      <td>142.5</td>\n",
              "      <td>0.0</td>\n",
              "      <td>228.0</td>\n",
              "      <td>0.0</td>\n",
              "      <td>932.0</td>\n",
              "      <td>594.0</td>\n",
              "      <td>270</td>\n",
              "      <td>40.27</td>\n",
              "    </tr>\n",
              "    <tr>\n",
              "      <th>3</th>\n",
              "      <td>332.5</td>\n",
              "      <td>142.5</td>\n",
              "      <td>0.0</td>\n",
              "      <td>228.0</td>\n",
              "      <td>0.0</td>\n",
              "      <td>932.0</td>\n",
              "      <td>594.0</td>\n",
              "      <td>365</td>\n",
              "      <td>41.05</td>\n",
              "    </tr>\n",
              "    <tr>\n",
              "      <th>4</th>\n",
              "      <td>198.6</td>\n",
              "      <td>132.4</td>\n",
              "      <td>0.0</td>\n",
              "      <td>192.0</td>\n",
              "      <td>0.0</td>\n",
              "      <td>978.4</td>\n",
              "      <td>825.5</td>\n",
              "      <td>360</td>\n",
              "      <td>44.30</td>\n",
              "    </tr>\n",
              "  </tbody>\n",
              "</table>\n",
              "</div>\n",
              "    <div class=\"colab-df-buttons\">\n",
              "\n",
              "  <div class=\"colab-df-container\">\n",
              "    <button class=\"colab-df-convert\" onclick=\"convertToInteractive('df-13f7a933-f125-4ea9-a4e7-0bfe9c1d9595')\"\n",
              "            title=\"Convert this dataframe to an interactive table.\"\n",
              "            style=\"display:none;\">\n",
              "\n",
              "  <svg xmlns=\"http://www.w3.org/2000/svg\" height=\"24px\" viewBox=\"0 -960 960 960\">\n",
              "    <path d=\"M120-120v-720h720v720H120Zm60-500h600v-160H180v160Zm220 220h160v-160H400v160Zm0 220h160v-160H400v160ZM180-400h160v-160H180v160Zm440 0h160v-160H620v160ZM180-180h160v-160H180v160Zm440 0h160v-160H620v160Z\"/>\n",
              "  </svg>\n",
              "    </button>\n",
              "\n",
              "  <style>\n",
              "    .colab-df-container {\n",
              "      display:flex;\n",
              "      gap: 12px;\n",
              "    }\n",
              "\n",
              "    .colab-df-convert {\n",
              "      background-color: #E8F0FE;\n",
              "      border: none;\n",
              "      border-radius: 50%;\n",
              "      cursor: pointer;\n",
              "      display: none;\n",
              "      fill: #1967D2;\n",
              "      height: 32px;\n",
              "      padding: 0 0 0 0;\n",
              "      width: 32px;\n",
              "    }\n",
              "\n",
              "    .colab-df-convert:hover {\n",
              "      background-color: #E2EBFA;\n",
              "      box-shadow: 0px 1px 2px rgba(60, 64, 67, 0.3), 0px 1px 3px 1px rgba(60, 64, 67, 0.15);\n",
              "      fill: #174EA6;\n",
              "    }\n",
              "\n",
              "    .colab-df-buttons div {\n",
              "      margin-bottom: 4px;\n",
              "    }\n",
              "\n",
              "    [theme=dark] .colab-df-convert {\n",
              "      background-color: #3B4455;\n",
              "      fill: #D2E3FC;\n",
              "    }\n",
              "\n",
              "    [theme=dark] .colab-df-convert:hover {\n",
              "      background-color: #434B5C;\n",
              "      box-shadow: 0px 1px 3px 1px rgba(0, 0, 0, 0.15);\n",
              "      filter: drop-shadow(0px 1px 2px rgba(0, 0, 0, 0.3));\n",
              "      fill: #FFFFFF;\n",
              "    }\n",
              "  </style>\n",
              "\n",
              "    <script>\n",
              "      const buttonEl =\n",
              "        document.querySelector('#df-13f7a933-f125-4ea9-a4e7-0bfe9c1d9595 button.colab-df-convert');\n",
              "      buttonEl.style.display =\n",
              "        google.colab.kernel.accessAllowed ? 'block' : 'none';\n",
              "\n",
              "      async function convertToInteractive(key) {\n",
              "        const element = document.querySelector('#df-13f7a933-f125-4ea9-a4e7-0bfe9c1d9595');\n",
              "        const dataTable =\n",
              "          await google.colab.kernel.invokeFunction('convertToInteractive',\n",
              "                                                    [key], {});\n",
              "        if (!dataTable) return;\n",
              "\n",
              "        const docLinkHtml = 'Like what you see? Visit the ' +\n",
              "          '<a target=\"_blank\" href=https://colab.research.google.com/notebooks/data_table.ipynb>data table notebook</a>'\n",
              "          + ' to learn more about interactive tables.';\n",
              "        element.innerHTML = '';\n",
              "        dataTable['output_type'] = 'display_data';\n",
              "        await google.colab.output.renderOutput(dataTable, element);\n",
              "        const docLink = document.createElement('div');\n",
              "        docLink.innerHTML = docLinkHtml;\n",
              "        element.appendChild(docLink);\n",
              "      }\n",
              "    </script>\n",
              "  </div>\n",
              "\n",
              "\n",
              "<div id=\"df-4f1c9638-e35a-4072-b657-fcd2f9b680f0\">\n",
              "  <button class=\"colab-df-quickchart\" onclick=\"quickchart('df-4f1c9638-e35a-4072-b657-fcd2f9b680f0')\"\n",
              "            title=\"Suggest charts\"\n",
              "            style=\"display:none;\">\n",
              "\n",
              "<svg xmlns=\"http://www.w3.org/2000/svg\" height=\"24px\"viewBox=\"0 0 24 24\"\n",
              "     width=\"24px\">\n",
              "    <g>\n",
              "        <path d=\"M19 3H5c-1.1 0-2 .9-2 2v14c0 1.1.9 2 2 2h14c1.1 0 2-.9 2-2V5c0-1.1-.9-2-2-2zM9 17H7v-7h2v7zm4 0h-2V7h2v10zm4 0h-2v-4h2v4z\"/>\n",
              "    </g>\n",
              "</svg>\n",
              "  </button>\n",
              "\n",
              "<style>\n",
              "  .colab-df-quickchart {\n",
              "      --bg-color: #E8F0FE;\n",
              "      --fill-color: #1967D2;\n",
              "      --hover-bg-color: #E2EBFA;\n",
              "      --hover-fill-color: #174EA6;\n",
              "      --disabled-fill-color: #AAA;\n",
              "      --disabled-bg-color: #DDD;\n",
              "  }\n",
              "\n",
              "  [theme=dark] .colab-df-quickchart {\n",
              "      --bg-color: #3B4455;\n",
              "      --fill-color: #D2E3FC;\n",
              "      --hover-bg-color: #434B5C;\n",
              "      --hover-fill-color: #FFFFFF;\n",
              "      --disabled-bg-color: #3B4455;\n",
              "      --disabled-fill-color: #666;\n",
              "  }\n",
              "\n",
              "  .colab-df-quickchart {\n",
              "    background-color: var(--bg-color);\n",
              "    border: none;\n",
              "    border-radius: 50%;\n",
              "    cursor: pointer;\n",
              "    display: none;\n",
              "    fill: var(--fill-color);\n",
              "    height: 32px;\n",
              "    padding: 0;\n",
              "    width: 32px;\n",
              "  }\n",
              "\n",
              "  .colab-df-quickchart:hover {\n",
              "    background-color: var(--hover-bg-color);\n",
              "    box-shadow: 0 1px 2px rgba(60, 64, 67, 0.3), 0 1px 3px 1px rgba(60, 64, 67, 0.15);\n",
              "    fill: var(--button-hover-fill-color);\n",
              "  }\n",
              "\n",
              "  .colab-df-quickchart-complete:disabled,\n",
              "  .colab-df-quickchart-complete:disabled:hover {\n",
              "    background-color: var(--disabled-bg-color);\n",
              "    fill: var(--disabled-fill-color);\n",
              "    box-shadow: none;\n",
              "  }\n",
              "\n",
              "  .colab-df-spinner {\n",
              "    border: 2px solid var(--fill-color);\n",
              "    border-color: transparent;\n",
              "    border-bottom-color: var(--fill-color);\n",
              "    animation:\n",
              "      spin 1s steps(1) infinite;\n",
              "  }\n",
              "\n",
              "  @keyframes spin {\n",
              "    0% {\n",
              "      border-color: transparent;\n",
              "      border-bottom-color: var(--fill-color);\n",
              "      border-left-color: var(--fill-color);\n",
              "    }\n",
              "    20% {\n",
              "      border-color: transparent;\n",
              "      border-left-color: var(--fill-color);\n",
              "      border-top-color: var(--fill-color);\n",
              "    }\n",
              "    30% {\n",
              "      border-color: transparent;\n",
              "      border-left-color: var(--fill-color);\n",
              "      border-top-color: var(--fill-color);\n",
              "      border-right-color: var(--fill-color);\n",
              "    }\n",
              "    40% {\n",
              "      border-color: transparent;\n",
              "      border-right-color: var(--fill-color);\n",
              "      border-top-color: var(--fill-color);\n",
              "    }\n",
              "    60% {\n",
              "      border-color: transparent;\n",
              "      border-right-color: var(--fill-color);\n",
              "    }\n",
              "    80% {\n",
              "      border-color: transparent;\n",
              "      border-right-color: var(--fill-color);\n",
              "      border-bottom-color: var(--fill-color);\n",
              "    }\n",
              "    90% {\n",
              "      border-color: transparent;\n",
              "      border-bottom-color: var(--fill-color);\n",
              "    }\n",
              "  }\n",
              "</style>\n",
              "\n",
              "  <script>\n",
              "    async function quickchart(key) {\n",
              "      const quickchartButtonEl =\n",
              "        document.querySelector('#' + key + ' button');\n",
              "      quickchartButtonEl.disabled = true;  // To prevent multiple clicks.\n",
              "      quickchartButtonEl.classList.add('colab-df-spinner');\n",
              "      try {\n",
              "        const charts = await google.colab.kernel.invokeFunction(\n",
              "            'suggestCharts', [key], {});\n",
              "      } catch (error) {\n",
              "        console.error('Error during call to suggestCharts:', error);\n",
              "      }\n",
              "      quickchartButtonEl.classList.remove('colab-df-spinner');\n",
              "      quickchartButtonEl.classList.add('colab-df-quickchart-complete');\n",
              "    }\n",
              "    (() => {\n",
              "      let quickchartButtonEl =\n",
              "        document.querySelector('#df-4f1c9638-e35a-4072-b657-fcd2f9b680f0 button');\n",
              "      quickchartButtonEl.style.display =\n",
              "        google.colab.kernel.accessAllowed ? 'block' : 'none';\n",
              "    })();\n",
              "  </script>\n",
              "</div>\n",
              "    </div>\n",
              "  </div>\n"
            ],
            "application/vnd.google.colaboratory.intrinsic+json": {
              "type": "dataframe",
              "variable_name": "concrete_data",
              "summary": "{\n  \"name\": \"concrete_data\",\n  \"rows\": 1030,\n  \"fields\": [\n    {\n      \"column\": \"Cement\",\n      \"properties\": {\n        \"dtype\": \"number\",\n        \"std\": 104.50636449481543,\n        \"min\": 102.0,\n        \"max\": 540.0,\n        \"num_unique_values\": 278,\n        \"samples\": [\n          337.9,\n          290.2,\n          262.0\n        ],\n        \"semantic_type\": \"\",\n        \"description\": \"\"\n      }\n    },\n    {\n      \"column\": \"Blast Furnace Slag\",\n      \"properties\": {\n        \"dtype\": \"number\",\n        \"std\": 86.27934174810551,\n        \"min\": 0.0,\n        \"max\": 359.4,\n        \"num_unique_values\": 185,\n        \"samples\": [\n          94.7,\n          119.0,\n          136.3\n        ],\n        \"semantic_type\": \"\",\n        \"description\": \"\"\n      }\n    },\n    {\n      \"column\": \"Fly Ash\",\n      \"properties\": {\n        \"dtype\": \"number\",\n        \"std\": 63.99700415268812,\n        \"min\": 0.0,\n        \"max\": 200.1,\n        \"num_unique_values\": 156,\n        \"samples\": [\n          98.0,\n          142.0,\n          195.0\n        ],\n        \"semantic_type\": \"\",\n        \"description\": \"\"\n      }\n    },\n    {\n      \"column\": \"Water\",\n      \"properties\": {\n        \"dtype\": \"number\",\n        \"std\": 21.354218565032525,\n        \"min\": 121.8,\n        \"max\": 247.0,\n        \"num_unique_values\": 195,\n        \"samples\": [\n          195.4,\n          183.8,\n          127.3\n        ],\n        \"semantic_type\": \"\",\n        \"description\": \"\"\n      }\n    },\n    {\n      \"column\": \"Superplasticizer\",\n      \"properties\": {\n        \"dtype\": \"number\",\n        \"std\": 5.973841392485506,\n        \"min\": 0.0,\n        \"max\": 32.2,\n        \"num_unique_values\": 111,\n        \"samples\": [\n          15.0,\n          28.2,\n          16.5\n        ],\n        \"semantic_type\": \"\",\n        \"description\": \"\"\n      }\n    },\n    {\n      \"column\": \"Coarse Aggregate\",\n      \"properties\": {\n        \"dtype\": \"number\",\n        \"std\": 77.75395396672091,\n        \"min\": 801.0,\n        \"max\": 1145.0,\n        \"num_unique_values\": 284,\n        \"samples\": [\n          852.1,\n          913.9,\n          914.0\n        ],\n        \"semantic_type\": \"\",\n        \"description\": \"\"\n      }\n    },\n    {\n      \"column\": \"Fine Aggregate\",\n      \"properties\": {\n        \"dtype\": \"number\",\n        \"std\": 80.17598014240434,\n        \"min\": 594.0,\n        \"max\": 992.6,\n        \"num_unique_values\": 302,\n        \"samples\": [\n          710.0,\n          695.4,\n          769.3\n        ],\n        \"semantic_type\": \"\",\n        \"description\": \"\"\n      }\n    },\n    {\n      \"column\": \"Age\",\n      \"properties\": {\n        \"dtype\": \"number\",\n        \"std\": 63,\n        \"min\": 1,\n        \"max\": 365,\n        \"num_unique_values\": 14,\n        \"samples\": [\n          91,\n          100,\n          28\n        ],\n        \"semantic_type\": \"\",\n        \"description\": \"\"\n      }\n    },\n    {\n      \"column\": \"Strength\",\n      \"properties\": {\n        \"dtype\": \"number\",\n        \"std\": 16.705741961912505,\n        \"min\": 2.33,\n        \"max\": 82.6,\n        \"num_unique_values\": 845,\n        \"samples\": [\n          41.68,\n          39.59,\n          2.33\n        ],\n        \"semantic_type\": \"\",\n        \"description\": \"\"\n      }\n    }\n  ]\n}"
            }
          },
          "metadata": {},
          "execution_count": 10
        }
      ]
    },
    {
      "cell_type": "markdown",
      "source": [
        "Split data into predictors and target\n"
      ],
      "metadata": {
        "id": "KKmKY8lCLnN6"
      }
    },
    {
      "cell_type": "code",
      "source": [
        "concrete_data_columns = concrete_data.columns\n",
        "\n",
        "predictors = concrete_data[concrete_data_columns[concrete_data_columns != 'Strength']] # all columns except Strength\n",
        "target = concrete_data['Strength'] # Strength column"
      ],
      "metadata": {
        "id": "y3WPBfzcLj6O"
      },
      "execution_count": 11,
      "outputs": []
    },
    {
      "cell_type": "markdown",
      "source": [
        "Finally, the last step is to normalize the data by substracting the mean and dividing by the standard deviation.\n"
      ],
      "metadata": {
        "id": "22E9kfZYLux2"
      }
    },
    {
      "cell_type": "code",
      "source": [
        "predictors_norm = (predictors - predictors.mean()) / predictors.std()\n",
        "predictors_norm.head()"
      ],
      "metadata": {
        "colab": {
          "base_uri": "https://localhost:8080/",
          "height": 206
        },
        "id": "KSp8VNojLpiH",
        "outputId": "51b52089-6412-46ea-e2dc-492bac28d1ff"
      },
      "execution_count": 12,
      "outputs": [
        {
          "output_type": "execute_result",
          "data": {
            "text/plain": [
              "     Cement  Blast Furnace Slag   Fly Ash     Water  Superplasticizer  \\\n",
              "0  2.476712           -0.856472 -0.846733 -0.916319         -0.620147   \n",
              "1  2.476712           -0.856472 -0.846733 -0.916319         -0.620147   \n",
              "2  0.491187            0.795140 -0.846733  2.174405         -1.038638   \n",
              "3  0.491187            0.795140 -0.846733  2.174405         -1.038638   \n",
              "4 -0.790075            0.678079 -0.846733  0.488555         -1.038638   \n",
              "\n",
              "   Coarse Aggregate  Fine Aggregate       Age  \n",
              "0          0.862735       -1.217079 -0.279597  \n",
              "1          1.055651       -1.217079 -0.279597  \n",
              "2         -0.526262       -2.239829  3.551340  \n",
              "3         -0.526262       -2.239829  5.055221  \n",
              "4          0.070492        0.647569  4.976069  "
            ],
            "text/html": [
              "\n",
              "  <div id=\"df-f8cb2386-07de-4431-9c2a-3f25116375d3\" class=\"colab-df-container\">\n",
              "    <div>\n",
              "<style scoped>\n",
              "    .dataframe tbody tr th:only-of-type {\n",
              "        vertical-align: middle;\n",
              "    }\n",
              "\n",
              "    .dataframe tbody tr th {\n",
              "        vertical-align: top;\n",
              "    }\n",
              "\n",
              "    .dataframe thead th {\n",
              "        text-align: right;\n",
              "    }\n",
              "</style>\n",
              "<table border=\"1\" class=\"dataframe\">\n",
              "  <thead>\n",
              "    <tr style=\"text-align: right;\">\n",
              "      <th></th>\n",
              "      <th>Cement</th>\n",
              "      <th>Blast Furnace Slag</th>\n",
              "      <th>Fly Ash</th>\n",
              "      <th>Water</th>\n",
              "      <th>Superplasticizer</th>\n",
              "      <th>Coarse Aggregate</th>\n",
              "      <th>Fine Aggregate</th>\n",
              "      <th>Age</th>\n",
              "    </tr>\n",
              "  </thead>\n",
              "  <tbody>\n",
              "    <tr>\n",
              "      <th>0</th>\n",
              "      <td>2.476712</td>\n",
              "      <td>-0.856472</td>\n",
              "      <td>-0.846733</td>\n",
              "      <td>-0.916319</td>\n",
              "      <td>-0.620147</td>\n",
              "      <td>0.862735</td>\n",
              "      <td>-1.217079</td>\n",
              "      <td>-0.279597</td>\n",
              "    </tr>\n",
              "    <tr>\n",
              "      <th>1</th>\n",
              "      <td>2.476712</td>\n",
              "      <td>-0.856472</td>\n",
              "      <td>-0.846733</td>\n",
              "      <td>-0.916319</td>\n",
              "      <td>-0.620147</td>\n",
              "      <td>1.055651</td>\n",
              "      <td>-1.217079</td>\n",
              "      <td>-0.279597</td>\n",
              "    </tr>\n",
              "    <tr>\n",
              "      <th>2</th>\n",
              "      <td>0.491187</td>\n",
              "      <td>0.795140</td>\n",
              "      <td>-0.846733</td>\n",
              "      <td>2.174405</td>\n",
              "      <td>-1.038638</td>\n",
              "      <td>-0.526262</td>\n",
              "      <td>-2.239829</td>\n",
              "      <td>3.551340</td>\n",
              "    </tr>\n",
              "    <tr>\n",
              "      <th>3</th>\n",
              "      <td>0.491187</td>\n",
              "      <td>0.795140</td>\n",
              "      <td>-0.846733</td>\n",
              "      <td>2.174405</td>\n",
              "      <td>-1.038638</td>\n",
              "      <td>-0.526262</td>\n",
              "      <td>-2.239829</td>\n",
              "      <td>5.055221</td>\n",
              "    </tr>\n",
              "    <tr>\n",
              "      <th>4</th>\n",
              "      <td>-0.790075</td>\n",
              "      <td>0.678079</td>\n",
              "      <td>-0.846733</td>\n",
              "      <td>0.488555</td>\n",
              "      <td>-1.038638</td>\n",
              "      <td>0.070492</td>\n",
              "      <td>0.647569</td>\n",
              "      <td>4.976069</td>\n",
              "    </tr>\n",
              "  </tbody>\n",
              "</table>\n",
              "</div>\n",
              "    <div class=\"colab-df-buttons\">\n",
              "\n",
              "  <div class=\"colab-df-container\">\n",
              "    <button class=\"colab-df-convert\" onclick=\"convertToInteractive('df-f8cb2386-07de-4431-9c2a-3f25116375d3')\"\n",
              "            title=\"Convert this dataframe to an interactive table.\"\n",
              "            style=\"display:none;\">\n",
              "\n",
              "  <svg xmlns=\"http://www.w3.org/2000/svg\" height=\"24px\" viewBox=\"0 -960 960 960\">\n",
              "    <path d=\"M120-120v-720h720v720H120Zm60-500h600v-160H180v160Zm220 220h160v-160H400v160Zm0 220h160v-160H400v160ZM180-400h160v-160H180v160Zm440 0h160v-160H620v160ZM180-180h160v-160H180v160Zm440 0h160v-160H620v160Z\"/>\n",
              "  </svg>\n",
              "    </button>\n",
              "\n",
              "  <style>\n",
              "    .colab-df-container {\n",
              "      display:flex;\n",
              "      gap: 12px;\n",
              "    }\n",
              "\n",
              "    .colab-df-convert {\n",
              "      background-color: #E8F0FE;\n",
              "      border: none;\n",
              "      border-radius: 50%;\n",
              "      cursor: pointer;\n",
              "      display: none;\n",
              "      fill: #1967D2;\n",
              "      height: 32px;\n",
              "      padding: 0 0 0 0;\n",
              "      width: 32px;\n",
              "    }\n",
              "\n",
              "    .colab-df-convert:hover {\n",
              "      background-color: #E2EBFA;\n",
              "      box-shadow: 0px 1px 2px rgba(60, 64, 67, 0.3), 0px 1px 3px 1px rgba(60, 64, 67, 0.15);\n",
              "      fill: #174EA6;\n",
              "    }\n",
              "\n",
              "    .colab-df-buttons div {\n",
              "      margin-bottom: 4px;\n",
              "    }\n",
              "\n",
              "    [theme=dark] .colab-df-convert {\n",
              "      background-color: #3B4455;\n",
              "      fill: #D2E3FC;\n",
              "    }\n",
              "\n",
              "    [theme=dark] .colab-df-convert:hover {\n",
              "      background-color: #434B5C;\n",
              "      box-shadow: 0px 1px 3px 1px rgba(0, 0, 0, 0.15);\n",
              "      filter: drop-shadow(0px 1px 2px rgba(0, 0, 0, 0.3));\n",
              "      fill: #FFFFFF;\n",
              "    }\n",
              "  </style>\n",
              "\n",
              "    <script>\n",
              "      const buttonEl =\n",
              "        document.querySelector('#df-f8cb2386-07de-4431-9c2a-3f25116375d3 button.colab-df-convert');\n",
              "      buttonEl.style.display =\n",
              "        google.colab.kernel.accessAllowed ? 'block' : 'none';\n",
              "\n",
              "      async function convertToInteractive(key) {\n",
              "        const element = document.querySelector('#df-f8cb2386-07de-4431-9c2a-3f25116375d3');\n",
              "        const dataTable =\n",
              "          await google.colab.kernel.invokeFunction('convertToInteractive',\n",
              "                                                    [key], {});\n",
              "        if (!dataTable) return;\n",
              "\n",
              "        const docLinkHtml = 'Like what you see? Visit the ' +\n",
              "          '<a target=\"_blank\" href=https://colab.research.google.com/notebooks/data_table.ipynb>data table notebook</a>'\n",
              "          + ' to learn more about interactive tables.';\n",
              "        element.innerHTML = '';\n",
              "        dataTable['output_type'] = 'display_data';\n",
              "        await google.colab.output.renderOutput(dataTable, element);\n",
              "        const docLink = document.createElement('div');\n",
              "        docLink.innerHTML = docLinkHtml;\n",
              "        element.appendChild(docLink);\n",
              "      }\n",
              "    </script>\n",
              "  </div>\n",
              "\n",
              "\n",
              "<div id=\"df-78bd7bdd-01bc-41d1-882f-06842baeafd4\">\n",
              "  <button class=\"colab-df-quickchart\" onclick=\"quickchart('df-78bd7bdd-01bc-41d1-882f-06842baeafd4')\"\n",
              "            title=\"Suggest charts\"\n",
              "            style=\"display:none;\">\n",
              "\n",
              "<svg xmlns=\"http://www.w3.org/2000/svg\" height=\"24px\"viewBox=\"0 0 24 24\"\n",
              "     width=\"24px\">\n",
              "    <g>\n",
              "        <path d=\"M19 3H5c-1.1 0-2 .9-2 2v14c0 1.1.9 2 2 2h14c1.1 0 2-.9 2-2V5c0-1.1-.9-2-2-2zM9 17H7v-7h2v7zm4 0h-2V7h2v10zm4 0h-2v-4h2v4z\"/>\n",
              "    </g>\n",
              "</svg>\n",
              "  </button>\n",
              "\n",
              "<style>\n",
              "  .colab-df-quickchart {\n",
              "      --bg-color: #E8F0FE;\n",
              "      --fill-color: #1967D2;\n",
              "      --hover-bg-color: #E2EBFA;\n",
              "      --hover-fill-color: #174EA6;\n",
              "      --disabled-fill-color: #AAA;\n",
              "      --disabled-bg-color: #DDD;\n",
              "  }\n",
              "\n",
              "  [theme=dark] .colab-df-quickchart {\n",
              "      --bg-color: #3B4455;\n",
              "      --fill-color: #D2E3FC;\n",
              "      --hover-bg-color: #434B5C;\n",
              "      --hover-fill-color: #FFFFFF;\n",
              "      --disabled-bg-color: #3B4455;\n",
              "      --disabled-fill-color: #666;\n",
              "  }\n",
              "\n",
              "  .colab-df-quickchart {\n",
              "    background-color: var(--bg-color);\n",
              "    border: none;\n",
              "    border-radius: 50%;\n",
              "    cursor: pointer;\n",
              "    display: none;\n",
              "    fill: var(--fill-color);\n",
              "    height: 32px;\n",
              "    padding: 0;\n",
              "    width: 32px;\n",
              "  }\n",
              "\n",
              "  .colab-df-quickchart:hover {\n",
              "    background-color: var(--hover-bg-color);\n",
              "    box-shadow: 0 1px 2px rgba(60, 64, 67, 0.3), 0 1px 3px 1px rgba(60, 64, 67, 0.15);\n",
              "    fill: var(--button-hover-fill-color);\n",
              "  }\n",
              "\n",
              "  .colab-df-quickchart-complete:disabled,\n",
              "  .colab-df-quickchart-complete:disabled:hover {\n",
              "    background-color: var(--disabled-bg-color);\n",
              "    fill: var(--disabled-fill-color);\n",
              "    box-shadow: none;\n",
              "  }\n",
              "\n",
              "  .colab-df-spinner {\n",
              "    border: 2px solid var(--fill-color);\n",
              "    border-color: transparent;\n",
              "    border-bottom-color: var(--fill-color);\n",
              "    animation:\n",
              "      spin 1s steps(1) infinite;\n",
              "  }\n",
              "\n",
              "  @keyframes spin {\n",
              "    0% {\n",
              "      border-color: transparent;\n",
              "      border-bottom-color: var(--fill-color);\n",
              "      border-left-color: var(--fill-color);\n",
              "    }\n",
              "    20% {\n",
              "      border-color: transparent;\n",
              "      border-left-color: var(--fill-color);\n",
              "      border-top-color: var(--fill-color);\n",
              "    }\n",
              "    30% {\n",
              "      border-color: transparent;\n",
              "      border-left-color: var(--fill-color);\n",
              "      border-top-color: var(--fill-color);\n",
              "      border-right-color: var(--fill-color);\n",
              "    }\n",
              "    40% {\n",
              "      border-color: transparent;\n",
              "      border-right-color: var(--fill-color);\n",
              "      border-top-color: var(--fill-color);\n",
              "    }\n",
              "    60% {\n",
              "      border-color: transparent;\n",
              "      border-right-color: var(--fill-color);\n",
              "    }\n",
              "    80% {\n",
              "      border-color: transparent;\n",
              "      border-right-color: var(--fill-color);\n",
              "      border-bottom-color: var(--fill-color);\n",
              "    }\n",
              "    90% {\n",
              "      border-color: transparent;\n",
              "      border-bottom-color: var(--fill-color);\n",
              "    }\n",
              "  }\n",
              "</style>\n",
              "\n",
              "  <script>\n",
              "    async function quickchart(key) {\n",
              "      const quickchartButtonEl =\n",
              "        document.querySelector('#' + key + ' button');\n",
              "      quickchartButtonEl.disabled = true;  // To prevent multiple clicks.\n",
              "      quickchartButtonEl.classList.add('colab-df-spinner');\n",
              "      try {\n",
              "        const charts = await google.colab.kernel.invokeFunction(\n",
              "            'suggestCharts', [key], {});\n",
              "      } catch (error) {\n",
              "        console.error('Error during call to suggestCharts:', error);\n",
              "      }\n",
              "      quickchartButtonEl.classList.remove('colab-df-spinner');\n",
              "      quickchartButtonEl.classList.add('colab-df-quickchart-complete');\n",
              "    }\n",
              "    (() => {\n",
              "      let quickchartButtonEl =\n",
              "        document.querySelector('#df-78bd7bdd-01bc-41d1-882f-06842baeafd4 button');\n",
              "      quickchartButtonEl.style.display =\n",
              "        google.colab.kernel.accessAllowed ? 'block' : 'none';\n",
              "    })();\n",
              "  </script>\n",
              "</div>\n",
              "    </div>\n",
              "  </div>\n"
            ],
            "application/vnd.google.colaboratory.intrinsic+json": {
              "type": "dataframe",
              "variable_name": "predictors_norm",
              "summary": "{\n  \"name\": \"predictors_norm\",\n  \"rows\": 1030,\n  \"fields\": [\n    {\n      \"column\": \"Cement\",\n      \"properties\": {\n        \"dtype\": \"number\",\n        \"std\": 0.9999999999999971,\n        \"min\": -1.7144205995851907,\n        \"max\": 2.4767117024262264,\n        \"num_unique_values\": 278,\n        \"samples\": [\n          0.5428581904707298,\n          0.0864266589503085,\n          -0.18341336597371413\n        ],\n        \"semantic_type\": \"\",\n        \"description\": \"\"\n      }\n    },\n    {\n      \"column\": \"Blast Furnace Slag\",\n      \"properties\": {\n        \"dtype\": \"number\",\n        \"std\": 1.0000000000000016,\n        \"min\": -0.8564718244890995,\n        \"max\": 3.309067604975678,\n        \"num_unique_values\": 185,\n        \"samples\": [\n          0.24112579368094628,\n          0.5227691106981808,\n          0.7232806079985167\n        ],\n        \"semantic_type\": \"\",\n        \"description\": \"\"\n      }\n    },\n    {\n      \"column\": \"Fly Ash\",\n      \"properties\": {\n        \"dtype\": \"number\",\n        \"std\": 0.999999999999992,\n        \"min\": -0.8467325968146431,\n        \"max\": 2.279976264784389,\n        \"num_unique_values\": 156,\n        \"samples\": [\n          0.6845890845282112,\n          1.3721212679882684,\n          2.2002850344287914\n        ],\n        \"semantic_type\": \"\",\n        \"description\": \"\"\n      }\n    },\n    {\n      \"column\": \"Water\",\n      \"properties\": {\n        \"dtype\": \"number\",\n        \"std\": 0.9999999999999987,\n        \"min\": -2.7988512607652534,\n        \"max\": 3.0641588802386726,\n        \"num_unique_values\": 195,\n        \"samples\": [\n          0.6477745090261923,\n          0.10455631704819303,\n          -2.5412909111205124\n        ],\n        \"semantic_type\": \"\",\n        \"description\": \"\"\n      }\n    },\n    {\n      \"column\": \"Superplasticizer\",\n      \"properties\": {\n        \"dtype\": \"number\",\n        \"std\": 1.000000000000005,\n        \"min\": -1.0386382541022263,\n        \"max\": 4.351528287732042,\n        \"num_unique_values\": 111,\n        \"samples\": [\n          1.472308892714979,\n          3.6819423819141193,\n          1.7234036073966996\n        ],\n        \"semantic_type\": \"\",\n        \"description\": \"\"\n      }\n    },\n    {\n      \"column\": \"Coarse Aggregate\",\n      \"properties\": {\n        \"dtype\": \"number\",\n        \"std\": 0.9999999999999978,\n        \"min\": -2.211063531411111,\n        \"max\": 2.213148774849658,\n        \"num_unique_values\": 284,\n        \"samples\": [\n          -1.553862226614816,\n          -0.7590473413621553,\n          -0.7577612331335908\n        ],\n        \"semantic_type\": \"\",\n        \"description\": \"\"\n      }\n    },\n    {\n      \"column\": \"Fine Aggregate\",\n      \"properties\": {\n        \"dtype\": \"number\",\n        \"std\": 0.9999999999999999,\n        \"min\": -2.23982900013111,\n        \"max\": 2.731734793564056,\n        \"num_unique_values\": 302,\n        \"samples\": [\n          -0.7930116391962398,\n          -0.9751110656587324,\n          -0.05338862623556973\n        ],\n        \"semantic_type\": \"\",\n        \"description\": \"\"\n      }\n    },\n    {\n      \"column\": \"Age\",\n      \"properties\": {\n        \"dtype\": \"number\",\n        \"std\": 0.9999999999999793,\n        \"min\": -0.7070159638428235,\n        \"max\": 5.055221007679098,\n        \"num_unique_values\": 14,\n        \"samples\": [\n          0.7177129576873218,\n          0.8601858498403363,\n          -0.2795972873837799\n        ],\n        \"semantic_type\": \"\",\n        \"description\": \"\"\n      }\n    }\n  ]\n}"
            }
          },
          "metadata": {},
          "execution_count": 12
        }
      ]
    },
    {
      "cell_type": "markdown",
      "source": [
        "Let's save the number of predictors to *n_cols* since we will need this number when building our network."
      ],
      "metadata": {
        "id": "sF_rg_j-LyPf"
      }
    },
    {
      "cell_type": "code",
      "source": [
        "n_cols = predictors_norm.shape[1] # number of predictors"
      ],
      "metadata": {
        "id": "ga99QprsLtJm"
      },
      "execution_count": 13,
      "outputs": []
    },
    {
      "cell_type": "code",
      "source": [
        "import keras\n",
        "from keras.models import Sequential\n",
        "from keras.layers import Dense"
      ],
      "metadata": {
        "id": "mZoIBibPLyrW"
      },
      "execution_count": 14,
      "outputs": []
    },
    {
      "cell_type": "code",
      "source": [
        "def regression_model():\n",
        "    model = Sequential()\n",
        "\n",
        "    model.add(Dense(50, activation=\"relu\", input_shape=(n_cols,)))\n",
        "    model.add(Dense(50, activation=\"relu\"))\n",
        "    model.add(Dense(1))\n",
        "\n",
        "    model.compile(optimizer=\"adam\", loss=\"mean_squared_error\")\n",
        "\n",
        "    return model"
      ],
      "metadata": {
        "id": "1yDT6cO8MxXA"
      },
      "execution_count": 15,
      "outputs": []
    },
    {
      "cell_type": "markdown",
      "source": [
        "## Train and Test the Network"
      ],
      "metadata": {
        "id": "JsglVBqQNMDq"
      }
    },
    {
      "cell_type": "markdown",
      "source": [
        "* `verbose=0`: No output will be displayed during training.\n",
        "* `verbose=1`: Progress bars will be shown for each epoch, displaying the loss and any metrics being tracked.\n",
        "* `verbose=2`: One line per epoch will be printed, showing the epoch number, loss, and metrics without a progress bar."
      ],
      "metadata": {
        "id": "h26ZRamMJPIm"
      }
    },
    {
      "cell_type": "code",
      "source": [
        "model = regression_model()\n",
        "model.fit(predictors_norm, target, validation_split=0.3, epochs=100, verbose=2)"
      ],
      "metadata": {
        "colab": {
          "base_uri": "https://localhost:8080/"
        },
        "id": "uSiV5s0wNJ9q",
        "outputId": "c6c96945-7e8b-4986-fc9f-e85ae35ff73b"
      },
      "execution_count": 16,
      "outputs": [
        {
          "output_type": "stream",
          "name": "stdout",
          "text": [
            "Epoch 1/100\n"
          ]
        },
        {
          "output_type": "stream",
          "name": "stderr",
          "text": [
            "/usr/local/lib/python3.11/dist-packages/keras/src/layers/core/dense.py:87: UserWarning: Do not pass an `input_shape`/`input_dim` argument to a layer. When using Sequential models, prefer using an `Input(shape)` object as the first layer in the model instead.\n",
            "  super().__init__(activity_regularizer=activity_regularizer, **kwargs)\n"
          ]
        },
        {
          "output_type": "stream",
          "name": "stdout",
          "text": [
            "23/23 - 2s - 84ms/step - loss: 1644.2986 - val_loss: 1135.1873\n",
            "Epoch 2/100\n",
            "23/23 - 0s - 9ms/step - loss: 1500.0557 - val_loss: 986.4418\n",
            "Epoch 3/100\n",
            "23/23 - 0s - 7ms/step - loss: 1266.1302 - val_loss: 763.0084\n",
            "Epoch 4/100\n",
            "23/23 - 0s - 6ms/step - loss: 923.9352 - val_loss: 501.2324\n",
            "Epoch 5/100\n",
            "23/23 - 0s - 7ms/step - loss: 561.3286 - val_loss: 300.0278\n",
            "Epoch 6/100\n",
            "23/23 - 0s - 6ms/step - loss: 323.7988 - val_loss: 214.2456\n",
            "Epoch 7/100\n",
            "23/23 - 0s - 15ms/step - loss: 244.5293 - val_loss: 190.5838\n",
            "Epoch 8/100\n",
            "23/23 - 0s - 14ms/step - loss: 218.5957 - val_loss: 180.0509\n",
            "Epoch 9/100\n",
            "23/23 - 0s - 8ms/step - loss: 205.5467 - val_loss: 173.5136\n",
            "Epoch 10/100\n",
            "23/23 - 0s - 6ms/step - loss: 196.6109 - val_loss: 171.1887\n",
            "Epoch 11/100\n",
            "23/23 - 0s - 15ms/step - loss: 189.4981 - val_loss: 170.5145\n",
            "Epoch 12/100\n",
            "23/23 - 0s - 9ms/step - loss: 183.0731 - val_loss: 168.9857\n",
            "Epoch 13/100\n",
            "23/23 - 0s - 6ms/step - loss: 178.5799 - val_loss: 168.1385\n",
            "Epoch 14/100\n",
            "23/23 - 0s - 7ms/step - loss: 173.4196 - val_loss: 166.8018\n",
            "Epoch 15/100\n",
            "23/23 - 0s - 4ms/step - loss: 170.1312 - val_loss: 166.3709\n",
            "Epoch 16/100\n",
            "23/23 - 0s - 7ms/step - loss: 166.0347 - val_loss: 165.7753\n",
            "Epoch 17/100\n",
            "23/23 - 0s - 6ms/step - loss: 163.0509 - val_loss: 168.4330\n",
            "Epoch 18/100\n",
            "23/23 - 0s - 4ms/step - loss: 160.1999 - val_loss: 166.1820\n",
            "Epoch 19/100\n",
            "23/23 - 0s - 7ms/step - loss: 157.5534 - val_loss: 165.3722\n",
            "Epoch 20/100\n",
            "23/23 - 0s - 4ms/step - loss: 155.4680 - val_loss: 169.5550\n",
            "Epoch 21/100\n",
            "23/23 - 0s - 6ms/step - loss: 153.1214 - val_loss: 168.0936\n",
            "Epoch 22/100\n",
            "23/23 - 0s - 7ms/step - loss: 151.5817 - val_loss: 168.4970\n",
            "Epoch 23/100\n",
            "23/23 - 0s - 6ms/step - loss: 149.2973 - val_loss: 169.0832\n",
            "Epoch 24/100\n",
            "23/23 - 0s - 4ms/step - loss: 147.6707 - val_loss: 170.8673\n",
            "Epoch 25/100\n",
            "23/23 - 0s - 6ms/step - loss: 145.8332 - val_loss: 170.8876\n",
            "Epoch 26/100\n",
            "23/23 - 0s - 6ms/step - loss: 144.5692 - val_loss: 172.7678\n",
            "Epoch 27/100\n",
            "23/23 - 0s - 6ms/step - loss: 142.7062 - val_loss: 170.2088\n",
            "Epoch 28/100\n",
            "23/23 - 0s - 5ms/step - loss: 141.4241 - val_loss: 175.2719\n",
            "Epoch 29/100\n",
            "23/23 - 0s - 5ms/step - loss: 139.8979 - val_loss: 169.2168\n",
            "Epoch 30/100\n",
            "23/23 - 0s - 6ms/step - loss: 138.4172 - val_loss: 174.0369\n",
            "Epoch 31/100\n",
            "23/23 - 0s - 4ms/step - loss: 136.9296 - val_loss: 173.5701\n",
            "Epoch 32/100\n",
            "23/23 - 0s - 6ms/step - loss: 134.9193 - val_loss: 171.5584\n",
            "Epoch 33/100\n",
            "23/23 - 0s - 5ms/step - loss: 132.9509 - val_loss: 173.9441\n",
            "Epoch 34/100\n",
            "23/23 - 0s - 6ms/step - loss: 131.7316 - val_loss: 171.1390\n",
            "Epoch 35/100\n",
            "23/23 - 0s - 6ms/step - loss: 129.9949 - val_loss: 172.5741\n",
            "Epoch 36/100\n",
            "23/23 - 0s - 4ms/step - loss: 128.5436 - val_loss: 172.4041\n",
            "Epoch 37/100\n",
            "23/23 - 0s - 4ms/step - loss: 126.2100 - val_loss: 169.2422\n",
            "Epoch 38/100\n",
            "23/23 - 0s - 5ms/step - loss: 124.8452 - val_loss: 171.7909\n",
            "Epoch 39/100\n",
            "23/23 - 0s - 6ms/step - loss: 123.7428 - val_loss: 168.6771\n",
            "Epoch 40/100\n",
            "23/23 - 0s - 4ms/step - loss: 121.1234 - val_loss: 166.2918\n",
            "Epoch 41/100\n",
            "23/23 - 0s - 5ms/step - loss: 119.2592 - val_loss: 168.3774\n",
            "Epoch 42/100\n",
            "23/23 - 0s - 6ms/step - loss: 117.0150 - val_loss: 168.4674\n",
            "Epoch 43/100\n",
            "23/23 - 0s - 6ms/step - loss: 114.8491 - val_loss: 163.0782\n",
            "Epoch 44/100\n",
            "23/23 - 0s - 5ms/step - loss: 112.7704 - val_loss: 165.6778\n",
            "Epoch 45/100\n",
            "23/23 - 0s - 6ms/step - loss: 110.0568 - val_loss: 161.7835\n",
            "Epoch 46/100\n",
            "23/23 - 0s - 7ms/step - loss: 107.6885 - val_loss: 164.1497\n",
            "Epoch 47/100\n",
            "23/23 - 0s - 5ms/step - loss: 105.2365 - val_loss: 160.7480\n",
            "Epoch 48/100\n",
            "23/23 - 0s - 5ms/step - loss: 102.4193 - val_loss: 156.1617\n",
            "Epoch 49/100\n",
            "23/23 - 0s - 6ms/step - loss: 99.0863 - val_loss: 156.1692\n",
            "Epoch 50/100\n",
            "23/23 - 0s - 7ms/step - loss: 96.5917 - val_loss: 154.8655\n",
            "Epoch 51/100\n",
            "23/23 - 0s - 6ms/step - loss: 93.4735 - val_loss: 151.4031\n",
            "Epoch 52/100\n",
            "23/23 - 0s - 4ms/step - loss: 89.8825 - val_loss: 151.4608\n",
            "Epoch 53/100\n",
            "23/23 - 0s - 6ms/step - loss: 87.3482 - val_loss: 146.7590\n",
            "Epoch 54/100\n",
            "23/23 - 0s - 6ms/step - loss: 84.2866 - val_loss: 155.3243\n",
            "Epoch 55/100\n",
            "23/23 - 0s - 6ms/step - loss: 81.6551 - val_loss: 148.4130\n",
            "Epoch 56/100\n",
            "23/23 - 0s - 6ms/step - loss: 78.5273 - val_loss: 147.9679\n",
            "Epoch 57/100\n",
            "23/23 - 0s - 4ms/step - loss: 76.2373 - val_loss: 146.8429\n",
            "Epoch 58/100\n",
            "23/23 - 0s - 5ms/step - loss: 73.8168 - val_loss: 148.0334\n",
            "Epoch 59/100\n",
            "23/23 - 0s - 4ms/step - loss: 71.1556 - val_loss: 145.2551\n",
            "Epoch 60/100\n",
            "23/23 - 0s - 6ms/step - loss: 69.2408 - val_loss: 139.8692\n",
            "Epoch 61/100\n",
            "23/23 - 0s - 4ms/step - loss: 66.8199 - val_loss: 142.0017\n",
            "Epoch 62/100\n",
            "23/23 - 0s - 6ms/step - loss: 64.5166 - val_loss: 145.3572\n",
            "Epoch 63/100\n",
            "23/23 - 0s - 5ms/step - loss: 62.5635 - val_loss: 140.7439\n",
            "Epoch 64/100\n",
            "23/23 - 0s - 5ms/step - loss: 61.6548 - val_loss: 141.4913\n",
            "Epoch 65/100\n",
            "23/23 - 0s - 5ms/step - loss: 59.1373 - val_loss: 138.3834\n",
            "Epoch 66/100\n",
            "23/23 - 0s - 5ms/step - loss: 58.0887 - val_loss: 142.9451\n",
            "Epoch 67/100\n",
            "23/23 - 0s - 4ms/step - loss: 56.7871 - val_loss: 141.3849\n",
            "Epoch 68/100\n",
            "23/23 - 0s - 4ms/step - loss: 55.2758 - val_loss: 140.5166\n",
            "Epoch 69/100\n",
            "23/23 - 0s - 5ms/step - loss: 53.6914 - val_loss: 136.5318\n",
            "Epoch 70/100\n",
            "23/23 - 0s - 4ms/step - loss: 52.0770 - val_loss: 139.3231\n",
            "Epoch 71/100\n",
            "23/23 - 0s - 5ms/step - loss: 50.9480 - val_loss: 141.8466\n",
            "Epoch 72/100\n",
            "23/23 - 0s - 6ms/step - loss: 49.1418 - val_loss: 144.0158\n",
            "Epoch 73/100\n",
            "23/23 - 0s - 4ms/step - loss: 48.5708 - val_loss: 136.1220\n",
            "Epoch 74/100\n",
            "23/23 - 0s - 4ms/step - loss: 47.3398 - val_loss: 136.9307\n",
            "Epoch 75/100\n",
            "23/23 - 0s - 5ms/step - loss: 46.4750 - val_loss: 141.5166\n",
            "Epoch 76/100\n",
            "23/23 - 0s - 6ms/step - loss: 45.3194 - val_loss: 148.9714\n",
            "Epoch 77/100\n",
            "23/23 - 0s - 4ms/step - loss: 44.7447 - val_loss: 140.2084\n",
            "Epoch 78/100\n",
            "23/23 - 0s - 4ms/step - loss: 44.6142 - val_loss: 141.2575\n",
            "Epoch 79/100\n",
            "23/23 - 0s - 4ms/step - loss: 43.6815 - val_loss: 145.1174\n",
            "Epoch 80/100\n",
            "23/23 - 0s - 4ms/step - loss: 42.5808 - val_loss: 151.7001\n",
            "Epoch 81/100\n",
            "23/23 - 0s - 6ms/step - loss: 42.2822 - val_loss: 151.0246\n",
            "Epoch 82/100\n",
            "23/23 - 0s - 6ms/step - loss: 40.3455 - val_loss: 141.8025\n",
            "Epoch 83/100\n",
            "23/23 - 0s - 4ms/step - loss: 40.2596 - val_loss: 143.2572\n",
            "Epoch 84/100\n",
            "23/23 - 0s - 5ms/step - loss: 40.1777 - val_loss: 138.2974\n",
            "Epoch 85/100\n",
            "23/23 - 0s - 6ms/step - loss: 40.0807 - val_loss: 143.8551\n",
            "Epoch 86/100\n",
            "23/23 - 0s - 4ms/step - loss: 38.7721 - val_loss: 150.0571\n",
            "Epoch 87/100\n",
            "23/23 - 0s - 6ms/step - loss: 38.1056 - val_loss: 144.8076\n",
            "Epoch 88/100\n",
            "23/23 - 0s - 6ms/step - loss: 37.7611 - val_loss: 159.2107\n",
            "Epoch 89/100\n",
            "23/23 - 0s - 4ms/step - loss: 36.9928 - val_loss: 144.5334\n",
            "Epoch 90/100\n",
            "23/23 - 0s - 6ms/step - loss: 36.5792 - val_loss: 143.8458\n",
            "Epoch 91/100\n",
            "23/23 - 0s - 9ms/step - loss: 36.9314 - val_loss: 143.5443\n",
            "Epoch 92/100\n",
            "23/23 - 0s - 11ms/step - loss: 36.0689 - val_loss: 146.4738\n",
            "Epoch 93/100\n",
            "23/23 - 0s - 6ms/step - loss: 35.9951 - val_loss: 138.4742\n",
            "Epoch 94/100\n",
            "23/23 - 0s - 8ms/step - loss: 35.3474 - val_loss: 151.2853\n",
            "Epoch 95/100\n",
            "23/23 - 0s - 11ms/step - loss: 34.7032 - val_loss: 155.6552\n",
            "Epoch 96/100\n",
            "23/23 - 0s - 6ms/step - loss: 34.4804 - val_loss: 150.5939\n",
            "Epoch 97/100\n",
            "23/23 - 0s - 13ms/step - loss: 34.0388 - val_loss: 149.6046\n",
            "Epoch 98/100\n",
            "23/23 - 0s - 6ms/step - loss: 33.7239 - val_loss: 143.4936\n",
            "Epoch 99/100\n",
            "23/23 - 0s - 13ms/step - loss: 32.9476 - val_loss: 151.6077\n",
            "Epoch 100/100\n",
            "23/23 - 0s - 12ms/step - loss: 32.9474 - val_loss: 147.7369\n"
          ]
        },
        {
          "output_type": "execute_result",
          "data": {
            "text/plain": [
              "<keras.src.callbacks.history.History at 0x7f5663327dd0>"
            ]
          },
          "metadata": {},
          "execution_count": 16
        }
      ]
    },
    {
      "cell_type": "markdown",
      "source": [
        "# Classification with Keras"
      ],
      "metadata": {
        "id": "Pavet30WNwB2"
      }
    },
    {
      "cell_type": "code",
      "source": [
        "import keras\n",
        "from keras.models import Sequential\n",
        "from keras.layers import Dense\n",
        "from keras.utils import to_categorical\n",
        "from keras.datasets import mnist\n",
        "\n",
        "import matplotlib.pyplot as plt"
      ],
      "metadata": {
        "id": "Kyjbmor1NhPG"
      },
      "execution_count": 1,
      "outputs": []
    },
    {
      "cell_type": "code",
      "source": [
        "(X_train, y_train), (X_test, y_test) = mnist.load_data()\n",
        "X_train.shape"
      ],
      "metadata": {
        "colab": {
          "base_uri": "https://localhost:8080/"
        },
        "id": "A3RNOzwtN9VX",
        "outputId": "fd0d391b-8779-4790-fe21-4f27e505fa02"
      },
      "execution_count": 2,
      "outputs": [
        {
          "output_type": "stream",
          "name": "stdout",
          "text": [
            "Downloading data from https://storage.googleapis.com/tensorflow/tf-keras-datasets/mnist.npz\n",
            "\u001b[1m11490434/11490434\u001b[0m \u001b[32m━━━━━━━━━━━━━━━━━━━━\u001b[0m\u001b[37m\u001b[0m \u001b[1m1s\u001b[0m 0us/step\n"
          ]
        },
        {
          "output_type": "execute_result",
          "data": {
            "text/plain": [
              "(60000, 28, 28)"
            ]
          },
          "metadata": {},
          "execution_count": 2
        }
      ]
    },
    {
      "cell_type": "code",
      "source": [
        "plt.imshow(X_train[0])"
      ],
      "metadata": {
        "colab": {
          "base_uri": "https://localhost:8080/",
          "height": 447
        },
        "id": "WiF0FKJ-OLqy",
        "outputId": "330e498d-f45e-4f36-d1e0-d09f326852d0"
      },
      "execution_count": 3,
      "outputs": [
        {
          "output_type": "execute_result",
          "data": {
            "text/plain": [
              "<matplotlib.image.AxesImage at 0x7b4427c0bf90>"
            ]
          },
          "metadata": {},
          "execution_count": 3
        },
        {
          "output_type": "display_data",
          "data": {
            "text/plain": [
              "<Figure size 640x480 with 1 Axes>"
            ],
            "image/png": "[encoded data removed]"
          },
          "metadata": {}
        }
      ]
    },
    {
      "cell_type": "markdown",
      "source": [
        "With conventional neural networks, we cannot feed in the image as input as is. So we need to flatten the images into one-dimensional vectors, each of size 1 x (28 x 28) = 1 x 784.\n"
      ],
      "metadata": {
        "id": "ZYe_TWSlbU-G"
      }
    },
    {
      "cell_type": "code",
      "source": [
        "# flatten images into one-dimensional vector\n",
        "num_pixels = X_train.shape[1] * X_train.shape[2]\n",
        "\n",
        "X_train = X_train.reshape(X_train.shape[0], num_pixels).astype(\"float32\")\n",
        "X_test = X_test.reshape(X_test.shape[0], num_pixels).astype(\"float32\")"
      ],
      "metadata": {
        "id": "9kNOUp1zORmR"
      },
      "execution_count": 4,
      "outputs": []
    },
    {
      "cell_type": "markdown",
      "source": [
        "Since pixel values can range from 0 to 255, let's normalize the vectors to be between 0 and 1."
      ],
      "metadata": {
        "id": "b9EOXYwlby46"
      }
    },
    {
      "cell_type": "code",
      "source": [
        "# normalize inputs from 0-255 to 0-1\n",
        "X_train = X_train / 255\n",
        "X_test = X_test / 255"
      ],
      "metadata": {
        "id": "cSsgcUAWbwXN"
      },
      "execution_count": 5,
      "outputs": []
    },
    {
      "cell_type": "markdown",
      "source": [
        "Finally, before we start building our model, remember that for classification we need to divide our target variable into categories. We use the to_categorical function from the Keras Utilities package.\n"
      ],
      "metadata": {
        "id": "x8jnAsqfb44T"
      }
    },
    {
      "cell_type": "code",
      "source": [
        "# one hot encode outputs\n",
        "y_train = to_categorical(y_train)\n",
        "y_test = to_categorical(y_test)\n",
        "\n",
        "num_classes = y_test.shape[1]\n",
        "print(num_classes)"
      ],
      "metadata": {
        "colab": {
          "base_uri": "https://localhost:8080/"
        },
        "id": "DA0tuMPqb0B1",
        "outputId": "c6c348ff-d7c6-4da2-99b0-dc12de45f279"
      },
      "execution_count": 6,
      "outputs": [
        {
          "output_type": "stream",
          "name": "stdout",
          "text": [
            "10\n"
          ]
        }
      ]
    },
    {
      "cell_type": "code",
      "source": [
        "def classification_model():\n",
        "    # Create model\n",
        "    model = Sequential()\n",
        "\n",
        "    model.add(Dense(num_pixels, activation=\"relu\", input_shape=(num_pixels,)))\n",
        "    model.add(Dense(100, activation=\"relu\"))\n",
        "    model.add(Dense(num_classes, activation=\"softmax\"))\n",
        "\n",
        "    model.compile(optimizer=\"adam\", loss=\"categorical_crossentropy\", metrics=[\"accuracy\"])\n",
        "\n",
        "    return model"
      ],
      "metadata": {
        "id": "0fIXfW5Xb6uj"
      },
      "execution_count": 7,
      "outputs": []
    },
    {
      "cell_type": "markdown",
      "source": [
        "## Train and Test the Network\n"
      ],
      "metadata": {
        "id": "laLNMzG4d4CF"
      }
    },
    {
      "cell_type": "markdown",
      "source": [
        "* `verbose=0`: No output will be displayed during training.\n",
        "* `verbose=1`: Progress bars will be shown for each epoch, displaying the loss and any metrics being tracked.\n",
        "* `verbose=2`: One line per epoch will be printed, showing the epoch number, loss, and metrics without a progress bar."
      ],
      "metadata": {
        "id": "DPTlwM6zJZjF"
      }
    },
    {
      "cell_type": "code",
      "source": [
        "model = classification_model()\n",
        "\n",
        "model.fit(X_train, y_train, validation_data=(X_test, y_test), epochs=10, verbose=2)\n",
        "\n",
        "scores = model.evaluate(X_test, y_test, verbose=0)"
      ],
      "metadata": {
        "colab": {
          "base_uri": "https://localhost:8080/"
        },
        "id": "Tu9edRJgb7pK",
        "outputId": "9ee84eb0-8723-4aa4-a87a-09d081b414db"
      },
      "execution_count": 8,
      "outputs": [
        {
          "output_type": "stream",
          "name": "stderr",
          "text": [
            "/usr/local/lib/python3.11/dist-packages/keras/src/layers/core/dense.py:87: UserWarning: Do not pass an `input_shape`/`input_dim` argument to a layer. When using Sequential models, prefer using an `Input(shape)` object as the first layer in the model instead.\n",
            "  super().__init__(activity_regularizer=activity_regularizer, **kwargs)\n"
          ]
        },
        {
          "output_type": "stream",
          "name": "stdout",
          "text": [
            "Epoch 1/10\n",
            "1875/1875 - 22s - 12ms/step - accuracy: 0.9437 - loss: 0.1850 - val_accuracy: 0.9700 - val_loss: 0.0915\n",
            "Epoch 2/10\n",
            "1875/1875 - 21s - 11ms/step - accuracy: 0.9757 - loss: 0.0789 - val_accuracy: 0.9765 - val_loss: 0.0788\n",
            "Epoch 3/10\n",
            "1875/1875 - 40s - 21ms/step - accuracy: 0.9829 - loss: 0.0537 - val_accuracy: 0.9758 - val_loss: 0.0833\n",
            "Epoch 4/10\n",
            "1875/1875 - 18s - 10ms/step - accuracy: 0.9868 - loss: 0.0393 - val_accuracy: 0.9782 - val_loss: 0.0798\n",
            "Epoch 5/10\n",
            "1875/1875 - 21s - 11ms/step - accuracy: 0.9892 - loss: 0.0339 - val_accuracy: 0.9781 - val_loss: 0.0858\n",
            "Epoch 6/10\n",
            "1875/1875 - 40s - 21ms/step - accuracy: 0.9918 - loss: 0.0255 - val_accuracy: 0.9801 - val_loss: 0.0742\n",
            "Epoch 7/10\n",
            "1875/1875 - 40s - 21ms/step - accuracy: 0.9927 - loss: 0.0219 - val_accuracy: 0.9837 - val_loss: 0.0697\n",
            "Epoch 8/10\n",
            "1875/1875 - 18s - 9ms/step - accuracy: 0.9933 - loss: 0.0202 - val_accuracy: 0.9805 - val_loss: 0.0864\n",
            "Epoch 9/10\n",
            "1875/1875 - 18s - 10ms/step - accuracy: 0.9947 - loss: 0.0172 - val_accuracy: 0.9810 - val_loss: 0.0929\n",
            "Epoch 10/10\n",
            "1875/1875 - 19s - 10ms/step - accuracy: 0.9947 - loss: 0.0161 - val_accuracy: 0.9812 - val_loss: 0.0854\n"
          ]
        }
      ]
    },
    {
      "cell_type": "code",
      "source": [
        "print('Accuracy: {}% \\n Error: {}'.format(scores[1], 1 - scores[1]))"
      ],
      "metadata": {
        "colab": {
          "base_uri": "https://localhost:8080/"
        },
        "id": "0v1uMGP5eHNV",
        "outputId": "e3165f15-4da7-4d93-aac2-a45bb28a1916"
      },
      "execution_count": 9,
      "outputs": [
        {
          "output_type": "stream",
          "name": "stdout",
          "text": [
            "Accuracy: 0.9811999797821045% \n",
            " Error: 0.018800020217895508\n"
          ]
        }
      ]
    },
    {
      "cell_type": "markdown",
      "source": [
        "Just running 10 epochs could actually take over 20 minutes. But enjoy the results as they are getting generated.\n"
      ],
      "metadata": {
        "id": "x0Kslr8xelf0"
      }
    },
    {
      "cell_type": "markdown",
      "source": [
        "Sometimes, you cannot afford to retrain your model everytime you want to use it, especially if you are limited on computational resources and training your model can take a long time. Therefore, with the Keras library, you can save your model after training. To do that, we use the save method."
      ],
      "metadata": {
        "id": "ZFosZoHwek0E"
      }
    },
    {
      "cell_type": "code",
      "source": [
        "model.save('classification_model.keras')"
      ],
      "metadata": {
        "id": "nZILzVdQegKf"
      },
      "execution_count": 10,
      "outputs": []
    },
    {
      "cell_type": "markdown",
      "source": [
        "Since our model contains multidimensional arrays of data, then models are usually saved as .h5 files."
      ],
      "metadata": {
        "id": "ZnlLmaPCesDj"
      }
    },
    {
      "cell_type": "markdown",
      "source": [
        "When you are ready to use your model again, you use the load_model function from <strong>keras.models</strong>.\n"
      ],
      "metadata": {
        "id": "PVRbaDYLetts"
      }
    },
    {
      "cell_type": "code",
      "source": [
        "from keras.models import load_model\n",
        "import numpy as np\n",
        "pretrained_model = load_model('classification_model.keras')"
      ],
      "metadata": {
        "id": "sOzNoAmAenfn"
      },
      "execution_count": 23,
      "outputs": []
    },
    {
      "cell_type": "markdown",
      "source": [
        "We can use the pretrained model to make a prediction"
      ],
      "metadata": {
        "id": "w4GlUZLw6qA9"
      }
    },
    {
      "cell_type": "code",
      "source": [
        "predictions = pretrained_model.predict(X_train[0].reshape(-1, 784))\n",
        "\n",
        "print(f\"\\nModel predictions: {predictions}\")\n",
        "\n",
        "print(f\"\\nFinal result: {np.argmax(predictions, axis=1)}\")"
      ],
      "metadata": {
        "id": "qDtchl2B4PVK",
        "outputId": "6934b583-2cb4-4d81-d86d-33be39599ae1",
        "colab": {
          "base_uri": "https://localhost:8080/"
        }
      },
      "execution_count": 28,
      "outputs": [
        {
          "output_type": "stream",
          "name": "stdout",
          "text": [
            "\u001b[1m1/1\u001b[0m \u001b[32m━━━━━━━━━━━━━━━━━━━━\u001b[0m\u001b[37m\u001b[0m \u001b[1m0s\u001b[0m 24ms/step\n",
            "\n",
            "Model predictions: [[1.27257755e-23 2.25379161e-19 1.16458272e-18 1.09098757e-04\n",
            "  9.66026837e-24 9.99890924e-01 1.16350542e-15 2.16392851e-21\n",
            "  5.42052489e-19 2.19365532e-16]]\n",
            "\n",
            "Final result: [5]\n"
          ]
        }
      ]
    },
    {
      "cell_type": "markdown",
      "source": [
        "# CNN with Keras"
      ],
      "metadata": {
        "id": "gO7tpCEBQTxr"
      }
    },
    {
      "cell_type": "markdown",
      "source": [
        "## 1 Layer of convolutional and pooling layers"
      ],
      "metadata": {
        "id": "6EHPDhRoKX4x"
      }
    },
    {
      "cell_type": "code",
      "source": [
        "import keras\n",
        "from keras.models import Sequential\n",
        "from keras.layers import Dense, Conv2D, MaxPooling2D, Flatten\n",
        "from keras.utils import to_categorical\n",
        "from keras.datasets import mnist"
      ],
      "metadata": {
        "id": "sol2PAAbQWzg"
      },
      "execution_count": 5,
      "outputs": []
    },
    {
      "cell_type": "code",
      "source": [
        "# load data\n",
        "(X_train, y_train), (X_test, y_test) = mnist.load_data()\n",
        "\n",
        "# reshape to be [samples][pixels][width][height]\n",
        "X_train = X_train.reshape(X_train.shape[0], 28, 28, 1).astype('float32')\n",
        "X_test = X_test.reshape(X_test.shape[0], 28, 28, 1).astype('float32')"
      ],
      "metadata": {
        "colab": {
          "base_uri": "https://localhost:8080/"
        },
        "id": "2pcRLEjIQsYF",
        "outputId": "a66a0a81-39bb-4929-ab6a-87a5b8fb29e9"
      },
      "execution_count": 6,
      "outputs": [
        {
          "output_type": "stream",
          "name": "stdout",
          "text": [
            "Downloading data from https://storage.googleapis.com/tensorflow/tf-keras-datasets/mnist.npz\n",
            "\u001b[1m11490434/11490434\u001b[0m \u001b[32m━━━━━━━━━━━━━━━━━━━━\u001b[0m\u001b[37m\u001b[0m \u001b[1m0s\u001b[0m 0us/step\n"
          ]
        }
      ]
    },
    {
      "cell_type": "markdown",
      "source": [
        "Let's normalize the pixel values to be between 0 and 1"
      ],
      "metadata": {
        "id": "Qgygl1DDory1"
      }
    },
    {
      "cell_type": "code",
      "source": [
        "X_train = X_train / 255 # normalize training data\n",
        "X_test = X_test / 255 # normalize test data"
      ],
      "metadata": {
        "id": "YXJEAiXuoSdd"
      },
      "execution_count": 7,
      "outputs": []
    },
    {
      "cell_type": "markdown",
      "source": [
        "Next, let's convert the target variable into binary categories\n"
      ],
      "metadata": {
        "id": "1vsm8zs-oukV"
      }
    },
    {
      "cell_type": "code",
      "source": [
        "y_train = to_categorical(y_train)\n",
        "y_test = to_categorical(y_test)\n",
        "\n",
        "num_classes = y_test.shape[1] # number of categories"
      ],
      "metadata": {
        "id": "WcryBkDSosnc"
      },
      "execution_count": 8,
      "outputs": []
    },
    {
      "cell_type": "code",
      "source": [
        "def convolutional_model():\n",
        "    model = Sequential()\n",
        "\n",
        "    model.add(Conv2D(16, (5,5), strides=(1,1), activation=\"relu\", input_shape=(28, 28, 1)))\n",
        "    model.add(MaxPooling2D(pool_size=(2, 2), strides=(2, 2)))\n",
        "\n",
        "    model.add(Flatten())\n",
        "\n",
        "    model.add(Dense(100, activation=\"relu\"))\n",
        "    model.add(Dense(num_classes, activation=\"softmax\"))\n",
        "\n",
        "    model.compile(optimizer=\"adam\", loss=\"categorical_crossentropy\", metrics=[\"accuracy\"])\n",
        "\n",
        "    return model"
      ],
      "metadata": {
        "id": "AqTRDjSYov5b"
      },
      "execution_count": 9,
      "outputs": []
    },
    {
      "cell_type": "markdown",
      "source": [
        "* `verbose=0`: No output will be displayed during training.\n",
        "* `verbose=1`: Progress bars will be shown for each epoch, displaying the loss and any metrics being tracked.\n",
        "* `verbose=2`: One line per epoch will be printed, showing the epoch number, loss, and metrics without a progress bar."
      ],
      "metadata": {
        "id": "mbDcHOvrJbnk"
      }
    },
    {
      "cell_type": "code",
      "source": [
        "model = convolutional_model()\n",
        "\n",
        "model.fit(X_train, y_train, validation_data=(X_test, y_test), epochs=10, batch_size=200, verbose=2)\n",
        "\n",
        "scores = model.evaluate(X_test, y_test, verbose=0)\n",
        "print(f\"Accuracy: {scores[1]} Error: {100-scores[1]*100}\")"
      ],
      "metadata": {
        "colab": {
          "base_uri": "https://localhost:8080/"
        },
        "id": "EYOv4BzDprLn",
        "outputId": "c78d1d98-e34b-408e-c66e-d51d3f1f6cc5"
      },
      "execution_count": 39,
      "outputs": [
        {
          "output_type": "stream",
          "name": "stderr",
          "text": [
            "/usr/local/lib/python3.11/dist-packages/keras/src/layers/convolutional/base_conv.py:107: UserWarning: Do not pass an `input_shape`/`input_dim` argument to a layer. When using Sequential models, prefer using an `Input(shape)` object as the first layer in the model instead.\n",
            "  super().__init__(activity_regularizer=activity_regularizer, **kwargs)\n"
          ]
        },
        {
          "output_type": "stream",
          "name": "stdout",
          "text": [
            "Epoch 1/10\n",
            "300/300 - 23s - 78ms/step - accuracy: 0.9252 - loss: 0.2767 - val_accuracy: 0.9718 - val_loss: 0.0966\n",
            "Epoch 2/10\n",
            "300/300 - 22s - 74ms/step - accuracy: 0.9764 - loss: 0.0805 - val_accuracy: 0.9794 - val_loss: 0.0625\n",
            "Epoch 3/10\n",
            "300/300 - 44s - 146ms/step - accuracy: 0.9839 - loss: 0.0549 - val_accuracy: 0.9848 - val_loss: 0.0482\n",
            "Epoch 4/10\n",
            "300/300 - 38s - 127ms/step - accuracy: 0.9873 - loss: 0.0438 - val_accuracy: 0.9849 - val_loss: 0.0425\n",
            "Epoch 5/10\n",
            "300/300 - 41s - 135ms/step - accuracy: 0.9897 - loss: 0.0349 - val_accuracy: 0.9852 - val_loss: 0.0404\n",
            "Epoch 6/10\n",
            "300/300 - 21s - 70ms/step - accuracy: 0.9913 - loss: 0.0286 - val_accuracy: 0.9869 - val_loss: 0.0402\n",
            "Epoch 7/10\n",
            "300/300 - 42s - 139ms/step - accuracy: 0.9930 - loss: 0.0236 - val_accuracy: 0.9887 - val_loss: 0.0339\n",
            "Epoch 8/10\n",
            "300/300 - 41s - 136ms/step - accuracy: 0.9935 - loss: 0.0198 - val_accuracy: 0.9887 - val_loss: 0.0363\n",
            "Epoch 9/10\n",
            "300/300 - 20s - 68ms/step - accuracy: 0.9954 - loss: 0.0163 - val_accuracy: 0.9866 - val_loss: 0.0380\n",
            "Epoch 10/10\n",
            "300/300 - 22s - 73ms/step - accuracy: 0.9961 - loss: 0.0135 - val_accuracy: 0.9879 - val_loss: 0.0404\n",
            "Accuracy: 0.9879000186920166 Error: 1.2099981307983398\n"
          ]
        }
      ]
    },
    {
      "cell_type": "markdown",
      "source": [
        "## 2 Layer of convolutional and pooling layers"
      ],
      "metadata": {
        "id": "gLa35S8f1wAX"
      }
    },
    {
      "cell_type": "code",
      "source": [
        "def convolutional_model():\n",
        "\n",
        "    model = Sequential()\n",
        "    model.add(Conv2D(16, (5, 5), activation=\"relu\", input_shape=(28, 28, 1)))\n",
        "    model.add(MaxPooling2D(pool_size=(2, 2), strides=(2, 2)))\n",
        "\n",
        "    model.add(Conv2D(8, (2, 2), activation=\"relu\"))\n",
        "    model.add(MaxPooling2D(pool_size=(2, 2), strides=(2, 2)))\n",
        "\n",
        "    model.add(Flatten())\n",
        "\n",
        "    model.add(Dense(100, activation=\"relu\"))\n",
        "    model.add(Dense(num_classes, activation=\"softmax\"))\n",
        "\n",
        "    model.compile(optimizer=\"adam\", loss=\"categorical_crossentropy\", metrics=[\"accuracy\"])\n",
        "\n",
        "    return model"
      ],
      "metadata": {
        "id": "_03DwOT1Jvpg"
      },
      "execution_count": 10,
      "outputs": []
    },
    {
      "cell_type": "code",
      "source": [
        "model = convolutional_model()\n",
        "\n",
        "model.fit(X_train, y_train, validation_data=(X_test, y_test), epochs=10, batch_size=200, verbose=2)\n",
        "\n",
        "scores = model.evaluate(X_test, y_test, verbose=0)\n",
        "print(f\"Accuracy: {scores[1]} Error: {100-scores[1]*100}\")"
      ],
      "metadata": {
        "id": "hJ2iUffB293S",
        "outputId": "cbe9aa83-077d-4fd9-d923-2fdcadc454ac",
        "colab": {
          "base_uri": "https://localhost:8080/"
        }
      },
      "execution_count": 11,
      "outputs": [
        {
          "output_type": "stream",
          "name": "stderr",
          "text": [
            "/usr/local/lib/python3.11/dist-packages/keras/src/layers/convolutional/base_conv.py:107: UserWarning: Do not pass an `input_shape`/`input_dim` argument to a layer. When using Sequential models, prefer using an `Input(shape)` object as the first layer in the model instead.\n",
            "  super().__init__(activity_regularizer=activity_regularizer, **kwargs)\n"
          ]
        },
        {
          "output_type": "stream",
          "name": "stdout",
          "text": [
            "Epoch 1/10\n",
            "300/300 - 23s - 77ms/step - accuracy: 0.8733 - loss: 0.4516 - val_accuracy: 0.9590 - val_loss: 0.1330\n",
            "Epoch 2/10\n",
            "300/300 - 40s - 135ms/step - accuracy: 0.9645 - loss: 0.1191 - val_accuracy: 0.9730 - val_loss: 0.0856\n",
            "Epoch 3/10\n",
            "300/300 - 22s - 72ms/step - accuracy: 0.9735 - loss: 0.0884 - val_accuracy: 0.9760 - val_loss: 0.0756\n",
            "Epoch 4/10\n",
            "300/300 - 20s - 66ms/step - accuracy: 0.9782 - loss: 0.0719 - val_accuracy: 0.9825 - val_loss: 0.0554\n",
            "Epoch 5/10\n",
            "300/300 - 22s - 72ms/step - accuracy: 0.9810 - loss: 0.0623 - val_accuracy: 0.9818 - val_loss: 0.0528\n",
            "Epoch 6/10\n",
            "300/300 - 21s - 69ms/step - accuracy: 0.9837 - loss: 0.0536 - val_accuracy: 0.9838 - val_loss: 0.0488\n",
            "Epoch 7/10\n",
            "300/300 - 42s - 138ms/step - accuracy: 0.9857 - loss: 0.0477 - val_accuracy: 0.9843 - val_loss: 0.0479\n",
            "Epoch 8/10\n",
            "300/300 - 20s - 66ms/step - accuracy: 0.9873 - loss: 0.0438 - val_accuracy: 0.9861 - val_loss: 0.0405\n",
            "Epoch 9/10\n",
            "300/300 - 22s - 74ms/step - accuracy: 0.9877 - loss: 0.0403 - val_accuracy: 0.9892 - val_loss: 0.0341\n",
            "Epoch 10/10\n",
            "300/300 - 40s - 134ms/step - accuracy: 0.9891 - loss: 0.0361 - val_accuracy: 0.9868 - val_loss: 0.0395\n",
            "Accuracy: 0.9868000149726868 Error: 1.3199985027313232\n"
          ]
        }
      ]
    },
    {
      "cell_type": "code",
      "source": [],
      "metadata": {
        "id": "Ny9pktLG3ZJj"
      },
      "execution_count": null,
      "outputs": []
    }
  ],
  "metadata": {
    "language_info": {
      "name": "python"
    },
    "colab": {
      "provenance": [],
      "toc_visible": true
    },
    "kernelspec": {
      "name": "python3",
      "display_name": "Python 3"
    }
  },
  "nbformat": 4,
  "nbformat_minor": 0
}